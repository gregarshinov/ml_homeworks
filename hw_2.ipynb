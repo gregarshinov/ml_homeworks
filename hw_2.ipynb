{
 "cells": [
  {
   "cell_type": "code",
   "execution_count": 110,
   "metadata": {},
   "outputs": [],
   "source": [
    "import os\n",
    "import re\n",
    "import pandas as pd\n",
    "from sklearn.linear_model import SGDClassifier, LogisticRegression\n",
    "from sklearn.feature_extraction.text import TfidfVectorizer\n",
    "from sklearn.model_selection import GridSearchCV\n",
    "from sklearn.naive_bayes import MultinomialNB\n",
    "from sklearn.metrics import classification_report\n",
    "from matplotlib import pyplot"
   ]
  },
  {
   "cell_type": "code",
   "execution_count": 111,
   "metadata": {},
   "outputs": [],
   "source": [
    "DATA = \"data\"\n",
    "POS = \"pos\"\n",
    "NEG = \"neg\"\n",
    "ACL_IMDB = \"aclImdb\"\n",
    "TRAIN = \"train\"\n",
    "TEST = \"test\""
   ]
  },
  {
   "cell_type": "code",
   "execution_count": 42,
   "metadata": {},
   "outputs": [],
   "source": [
    "from nltk.corpus import stopwords"
   ]
  },
  {
   "cell_type": "code",
   "execution_count": 99,
   "metadata": {},
   "outputs": [],
   "source": [
    "dataset_parts = (TRAIN, TEST)\n",
    "text_sentiments = (POS, NEG)\n",
    "\n",
    "filename_parser = re.compile(r\"(?P<id>\\d+)_(?P<rating>\\d{,2}).txt\")\n",
    "\n",
    "train_data_list = []\n",
    "test_data_list = []\n",
    "\n",
    "for part in dataset_parts:\n",
    "    for sentiment in text_sentiments:\n",
    "        for filename in os.listdir(os.path.join(DATA, ACL_IMDB, part, sentiment)):\n",
    "            with open(os.path.join(DATA, ACL_IMDB, part, sentiment, filename), \"r\", encoding=\"utf-8\") as file:\n",
    "                if part == TRAIN:\n",
    "                    needed_list = train_data_list\n",
    "                else:\n",
    "                    needed_list = test_data_list\n",
    "                needed_list.append({\"text\": file.read().strip(),\n",
    "                                    \"sentiment\": int(sentiment == POS),\n",
    "                                    \"rating\": int(filename_parser.match(filename).group(\"rating\"))})"
   ]
  },
  {
   "cell_type": "code",
   "execution_count": 100,
   "metadata": {},
   "outputs": [],
   "source": [
    "data_train = pd.DataFrame(train_data_list)\n",
    "data_test = pd.DataFrame(test_data_list)"
   ]
  },
  {
   "cell_type": "code",
   "execution_count": 55,
   "metadata": {},
   "outputs": [],
   "source": [
    "stopwords_en = stopwords.words(\"english\")"
   ]
  },
  {
   "cell_type": "code",
   "execution_count": 103,
   "metadata": {},
   "outputs": [],
   "source": [
    "from sklearn.pipeline import Pipeline\n",
    "from sklearn.metrics import roc_auc_score, roc_curve"
   ]
  },
  {
   "cell_type": "code",
   "execution_count": 131,
   "metadata": {},
   "outputs": [],
   "source": [
    "vectorizer = TfidfVectorizer(use_idf=True, min_df=10, max_df=1000, stop_words=stopwords_en)\n",
    "def evaluate_model(model_class,param_grid):\n",
    "    grid = GridSearchCV(model_class(), param_grid=param_grid)\n",
    "    pipeline = Pipeline([(\"vectorizer\", vectorizer),\n",
    "                         (\"grid\", grid)])\n",
    "    pipeline.fit(data_train.text, data_train.sentiment)\n",
    "    predictions = pipeline.predict(data_test.text)\n",
    "    probabilities = pipeline.predict_proba(data_test.text)\n",
    "    current_test_df = pd.DataFrame(data_test.copy())\n",
    "    current_test_df[\"probabilities\"] = probabilities[:,1]\n",
    "    print(classification_report(data_test.sentiment, predictions))\n",
    "    lr_auc = roc_auc_score(data_test.sentiment, predictions)\n",
    "    lr_fpr, lr_tpr, _ = roc_curve(data_test.sentiment, predictions)\n",
    "    pyplot.plot(lr_fpr, lr_tpr, marker='.', label='Model')\n",
    "    pyplot.xlabel('False Positive Rate')\n",
    "    pyplot.ylabel('True Positive Rate')\n",
    "    pyplot.legend()\n",
    "    pyplot.show()\n",
    "    print(current_test_df.nlargest(15, columns=[\"probabilities\"]))"
   ]
  },
  {
   "cell_type": "markdown",
   "metadata": {},
   "source": [
    "# Logistic Regression"
   ]
  },
  {
   "cell_type": "code",
   "execution_count": 132,
   "metadata": {},
   "outputs": [
    {
     "name": "stderr",
     "output_type": "stream",
     "text": [
      "/Users/grigoriyarshinov/anaconda3/lib/python3.7/site-packages/sklearn/model_selection/_split.py:1978: FutureWarning: The default value of cv will change from 3 to 5 in version 0.22. Specify it explicitly to silence this warning.\n",
      "  warnings.warn(CV_WARNING, FutureWarning)\n"
     ]
    },
    {
     "name": "stdout",
     "output_type": "stream",
     "text": [
      "              precision    recall  f1-score   support\n",
      "\n",
      "           0       0.83      0.85      0.84     12500\n",
      "           1       0.84      0.82      0.83     12500\n",
      "\n",
      "    accuracy                           0.84     25000\n",
      "   macro avg       0.84      0.84      0.84     25000\n",
      "weighted avg       0.84      0.84      0.84     25000\n",
      "\n"
     ]
    },
    {
     "data": {
      "image/png": "[encoded data removed]",
      "text/plain": [
       "<Figure size 432x288 with 1 Axes>"
      ]
     },
     "metadata": {
      "needs_background": "light"
     },
     "output_type": "display_data"
    },
    {
     "name": "stdout",
     "output_type": "stream",
     "text": [
      "                                                    text  sentiment  rating  \\\n",
      "11328  Easily one of my favourite dramatic TV films, ...          1      10   \n",
      "1613   Before I saw this film, I read the comment of ...          1       8   \n",
      "1715   \"Here On Earth\" is a surprising beautiful roma...          1      10   \n",
      "2140   From director Billy Wilder (Double Indemnity, ...          1       7   \n",
      "9713   Making a movie about a Comic is hard to do. Ma...          1      10   \n",
      "11736  Wow! Fantastic film in my opinion, i wasn't ex...          1       8   \n",
      "11118  Crossfire is a fantastic film noir that is bot...          1      10   \n",
      "11311  I've seen a few movies in my time, but this on...          1      10   \n",
      "6846   This film tackles the subjects of loss, person...          1       9   \n",
      "630    It was a rare treat to see \"Checking Out\". I w...          1      10   \n",
      "11843  Absolutely fantastic! Whatever I say wouldn't ...          1       8   \n",
      "5694   Edith Nesbitt's best book has been adapted int...          1      10   \n",
      "71     This show is verging on brilliant. It's a mode...          1      10   \n",
      "8458   \"Porgy and Bess\" is an outstanding production ...          1      10   \n",
      "12293  \"Pharaoh's Army\" defies formula. Instead of se...          1      10   \n",
      "\n",
      "       predicted  probabilities  \n",
      "11328          1       0.995324  \n",
      "1613           1       0.992186  \n",
      "1715           1       0.985591  \n",
      "2140           1       0.985537  \n",
      "9713           1       0.985165  \n",
      "11736          1       0.984890  \n",
      "11118          1       0.984878  \n",
      "11311          1       0.984852  \n",
      "6846           1       0.984817  \n",
      "630            1       0.984084  \n",
      "11843          1       0.984055  \n",
      "5694           1       0.983894  \n",
      "71             1       0.983460  \n",
      "8458           1       0.983153  \n",
      "12293          1       0.983050  \n"
     ]
    }
   ],
   "source": [
    "evaluate_model(LogisticRegression, dict(tol=[0.000005], solver=[\"lbfgs\"]))"
   ]
  },
  {
   "cell_type": "markdown",
   "metadata": {},
   "source": [
    "# SGD Classifier"
   ]
  },
  {
   "cell_type": "code",
   "execution_count": 134,
   "metadata": {},
   "outputs": [
    {
     "name": "stderr",
     "output_type": "stream",
     "text": [
      "/Users/grigoriyarshinov/anaconda3/lib/python3.7/site-packages/sklearn/model_selection/_split.py:1978: FutureWarning: The default value of cv will change from 3 to 5 in version 0.22. Specify it explicitly to silence this warning.\n",
      "  warnings.warn(CV_WARNING, FutureWarning)\n"
     ]
    },
    {
     "name": "stdout",
     "output_type": "stream",
     "text": [
      "              precision    recall  f1-score   support\n",
      "\n",
      "           0       0.81      0.85      0.83     12500\n",
      "           1       0.84      0.80      0.82     12500\n",
      "\n",
      "    accuracy                           0.82     25000\n",
      "   macro avg       0.82      0.82      0.82     25000\n",
      "weighted avg       0.82      0.82      0.82     25000\n",
      "\n"
     ]
    },
    {
     "data": {
      "image/png": "[encoded data removed]",
      "text/plain": [
       "<Figure size 432x288 with 1 Axes>"
      ]
     },
     "metadata": {
      "needs_background": "light"
     },
     "output_type": "display_data"
    },
    {
     "name": "stdout",
     "output_type": "stream",
     "text": [
      "                                                 text  sentiment  rating  \\\n",
      "7   There is no need for me to repeat the synopsis...          1      10   \n",
      "11  It started off weird, the middle was weird, an...          1       9   \n",
      "22  Damien O'Donnell has a good track record and i...          1      10   \n",
      "24  cool flick. enjoyable to watch. hope to see mo...          1       8   \n",
      "29  The Cure is a fantastic film about a boy with ...          1      10   \n",
      "31  remember back when this movie was made by robe...          1       8   \n",
      "36  A strange relationship between a middle-aged w...          1       8   \n",
      "37  This is a brilliant, lavish Czech film from th...          1       8   \n",
      "45  'Crossing the Bridge: The Sound of Istanbul' i...          1       8   \n",
      "47  I bought my first Zep album in 1974 (at 17) an...          1      10   \n",
      "57  This film is chock-full of little surprises, m...          1       9   \n",
      "61  \"North & South\" the television mini-series is ...          1      10   \n",
      "69  The Beguiled was one of the few early Eastwood...          1       9   \n",
      "71  This show is verging on brilliant. It's a mode...          1      10   \n",
      "78  I rented this obscure aussie relic a few years...          1       8   \n",
      "\n",
      "    predicted  probabilities  \n",
      "7           1            1.0  \n",
      "11          1            1.0  \n",
      "22          1            1.0  \n",
      "24          1            1.0  \n",
      "29          1            1.0  \n",
      "31          1            1.0  \n",
      "36          1            1.0  \n",
      "37          1            1.0  \n",
      "45          1            1.0  \n",
      "47          1            1.0  \n",
      "57          1            1.0  \n",
      "61          1            1.0  \n",
      "69          1            1.0  \n",
      "71          1            1.0  \n",
      "78          1            1.0  \n"
     ]
    }
   ],
   "source": [
    "evaluate_model(SGDClassifier, {\"loss\": [\"modified_huber\"], \"penalty\": [\"l2\", \"elasticnet\"]})"
   ]
  },
  {
   "cell_type": "markdown",
   "metadata": {},
   "source": [
    "# Naive Bayes"
   ]
  },
  {
   "cell_type": "code",
   "execution_count": 135,
   "metadata": {},
   "outputs": [
    {
     "name": "stderr",
     "output_type": "stream",
     "text": [
      "/Users/grigoriyarshinov/anaconda3/lib/python3.7/site-packages/sklearn/model_selection/_split.py:1978: FutureWarning: The default value of cv will change from 3 to 5 in version 0.22. Specify it explicitly to silence this warning.\n",
      "  warnings.warn(CV_WARNING, FutureWarning)\n"
     ]
    },
    {
     "name": "stdout",
     "output_type": "stream",
     "text": [
      "              precision    recall  f1-score   support\n",
      "\n",
      "           0       0.78      0.85      0.82     12500\n",
      "           1       0.84      0.76      0.80     12500\n",
      "\n",
      "    accuracy                           0.81     25000\n",
      "   macro avg       0.81      0.81      0.81     25000\n",
      "weighted avg       0.81      0.81      0.81     25000\n",
      "\n"
     ]
    },
    {
     "data": {
      "image/png": "[encoded data removed]",
      "text/plain": [
       "<Figure size 432x288 with 1 Axes>"
      ]
     },
     "metadata": {
      "needs_background": "light"
     },
     "output_type": "display_data"
    },
    {
     "name": "stdout",
     "output_type": "stream",
     "text": [
      "                                                    text  sentiment  rating  \\\n",
      "11328  Easily one of my favourite dramatic TV films, ...          1      10   \n",
      "140    We all want to fall in love... The experience ...          1       9   \n",
      "2140   From director Billy Wilder (Double Indemnity, ...          1       7   \n",
      "6019   This American masterpiece came as near perfect...          1       9   \n",
      "12009  Although I'm not crazy about musicals, COVER G...          1       7   \n",
      "6846   This film tackles the subjects of loss, person...          1       9   \n",
      "3712   We have moved far beyond this tentative foray ...          1       8   \n",
      "5647   After working on 7 movies with director Mickae...          1      10   \n",
      "6090   In Dublin, the crippled rebel Rory O'Shea (Jam...          1       8   \n",
      "5694   Edith Nesbitt's best book has been adapted int...          1      10   \n",
      "11118  Crossfire is a fantastic film noir that is bot...          1      10   \n",
      "10715  This has got to be one of the better post-Asta...          1       9   \n",
      "2404   This is absolutely one of our favourites of 20...          1      10   \n",
      "6804   Well.....I wouldn't want to lecture anybody bu...          1      10   \n",
      "7808   Obviously, Ponyo can be seen as just not anoth...          1      10   \n",
      "\n",
      "       predicted  probabilities  \n",
      "11328          1       0.971697  \n",
      "140            1       0.970239  \n",
      "2140           1       0.969814  \n",
      "6019           1       0.969442  \n",
      "12009          1       0.969134  \n",
      "6846           1       0.966959  \n",
      "3712           1       0.965807  \n",
      "5647           1       0.962654  \n",
      "6090           1       0.962507  \n",
      "5694           1       0.962418  \n",
      "11118          1       0.960384  \n",
      "10715          1       0.958574  \n",
      "2404           1       0.951821  \n",
      "6804           1       0.950408  \n",
      "7808           1       0.950146  \n"
     ]
    }
   ],
   "source": [
    "evaluate_model(MultinomialNB, {\"alpha\": [0.0001, 0.001, 0.01, 1.0]})"
   ]
  },
  {
   "cell_type": "code",
   "execution_count": 137,
   "metadata": {},
   "outputs": [],
   "source": [
    "def tp(y_true, y_pred):\n",
    "    sum_true = 0\n",
    "    for true, pred in zip(y_true, y_pred):\n",
    "        if true and pred:\n",
    "            sum_true += 1\n",
    "    return sum_true\n",
    "\n",
    "def fp(y_true, y_pred):\n",
    "    sum_fp = 0\n",
    "    for true, pred in zip(y_true, y_pred):\n",
    "        if not true and pred:\n",
    "            sum_fp += 1\n",
    "    return sum_fp\n",
    "\n",
    "def tn(y_true, y_pred):\n",
    "    sum_tn = 0\n",
    "    for true, pred in zip(y_true, y_pred):\n",
    "        if not true and not pred:\n",
    "            sum_tn += 1\n",
    "    return sum_tn\n",
    "\n",
    "def fn(y_true, y_pred):\n",
    "    sum_fn = 0\n",
    "    for true, pred in zip(y_true, y_pred):\n",
    "        if not true and not pred:\n",
    "            sum_fn += 1\n",
    "    return sum_fn"
   ]
  },
  {
   "cell_type": "code",
   "execution_count": null,
   "metadata": {},
   "outputs": [],
   "source": []
  }
 ],
 "metadata": {
  "kernelspec": {
   "display_name": "Python 3",
   "language": "python",
   "name": "python3"
  },
  "language_info": {
   "codemirror_mode": {
    "name": "ipython",
    "version": 3
   },
   "file_extension": ".py",
   "mimetype": "text/x-python",
   "name": "python",
   "nbconvert_exporter": "python",
   "pygments_lexer": "ipython3",
   "version": "3.7.4"
  }
 },
 "nbformat": 4,
 "nbformat_minor": 2
}
