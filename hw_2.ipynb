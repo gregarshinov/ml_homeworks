{
 "cells": [
  {
   "cell_type": "code",
   "execution_count": 110,
   "metadata": {},
   "outputs": [],
   "source": [
    "import os\n",
    "import re\n",
    "import pandas as pd\n",
    "from sklearn.linear_model import SGDClassifier, LogisticRegression\n",
    "from sklearn.feature_extraction.text import TfidfVectorizer\n",
    "from sklearn.model_selection import GridSearchCV\n",
    "from sklearn.naive_bayes import MultinomialNB\n",
    "from sklearn.metrics import classification_report\n",
    "from matplotlib import pyplot"
   ]
  },
  {
   "cell_type": "code",
   "execution_count": 111,
   "metadata": {},
   "outputs": [],
   "source": [
    "DATA = \"data\"\n",
    "POS = \"pos\"\n",
    "NEG = \"neg\"\n",
    "ACL_IMDB = \"aclImdb\"\n",
    "TRAIN = \"train\"\n",
    "TEST = \"test\""
   ]
  },
  {
   "cell_type": "code",
   "execution_count": 42,
   "metadata": {},
   "outputs": [],
   "source": [
    "from nltk.corpus import stopwords"
   ]
  },
  {
   "cell_type": "code",
   "execution_count": 99,
   "metadata": {},
   "outputs": [],
   "source": [
    "dataset_parts = (TRAIN, TEST)\n",
    "text_sentiments = (POS, NEG)\n",
    "\n",
    "filename_parser = re.compile(r\"(?P<id>\\d+)_(?P<rating>\\d{,2}).txt\")\n",
    "\n",
    "train_data_list = []\n",
    "test_data_list = []\n",
    "\n",
    "for part in dataset_parts:\n",
    "    for sentiment in text_sentiments:\n",
    "        for filename in os.listdir(os.path.join(DATA, ACL_IMDB, part, sentiment)):\n",
    "            with open(os.path.join(DATA, ACL_IMDB, part, sentiment, filename), \"r\", encoding=\"utf-8\") as file:\n",
    "                if part == TRAIN:\n",
    "                    needed_list = train_data_list\n",
    "                else:\n",
    "                    needed_list = test_data_list\n",
    "                needed_list.append({\"text\": file.read().strip(),\n",
    "                                    \"sentiment\": int(sentiment == POS),\n",
    "                                    \"rating\": int(filename_parser.match(filename).group(\"rating\"))})"
   ]
  },
  {
   "cell_type": "code",
   "execution_count": 100,
   "metadata": {},
   "outputs": [],
   "source": [
    "data_train = pd.DataFrame(train_data_list)\n",
    "data_test = pd.DataFrame(test_data_list)"
   ]
  },
  {
   "cell_type": "code",
   "execution_count": 55,
   "metadata": {},
   "outputs": [],
   "source": [
    "stopwords_en = stopwords.words(\"english\")"
   ]
  },
  {
   "cell_type": "code",
   "execution_count": 141,
   "metadata": {},
   "outputs": [],
   "source": [
    "def tp(y_true, y_pred):\n",
    "    sum_true = 0\n",
    "    for true, pred in zip(y_true, y_pred):\n",
    "        if true and pred:\n",
    "            sum_true += 1\n",
    "    return sum_true\n",
    "\n",
    "def fp(y_true, y_pred):\n",
    "    sum_fp = 0\n",
    "    for true, pred in zip(y_true, y_pred):\n",
    "        if not true and pred:\n",
    "            sum_fp += 1\n",
    "    return sum_fp\n",
    "\n",
    "def tn(y_true, y_pred):\n",
    "    sum_tn = 0\n",
    "    for true, pred in zip(y_true, y_pred):\n",
    "        if not true and not pred:\n",
    "            sum_tn += 1\n",
    "    return sum_tn\n",
    "\n",
    "def fn(y_true, y_pred):\n",
    "    sum_fn = 0\n",
    "    for true, pred in zip(y_true, y_pred):\n",
    "        if true and not pred:\n",
    "            sum_fn += 1\n",
    "    return sum_fn"
   ]
  },
  {
   "cell_type": "code",
   "execution_count": 142,
   "metadata": {},
   "outputs": [],
   "source": [
    "from sklearn.pipeline import Pipeline\n",
    "from sklearn.metrics import roc_auc_score, roc_curve, confusion_matrix"
   ]
  },
  {
   "cell_type": "code",
   "execution_count": 174,
   "metadata": {},
   "outputs": [],
   "source": [
    "vectorizer = TfidfVectorizer(stop_words=stopwords_en)\n",
    "def evaluate_model(model_class, param_grid):\n",
    "    pipeline = Pipeline([(\"vect\", vectorizer),\n",
    "                         (\"clf\", model_class())])\n",
    "    grid_search = GridSearchCV(pipeline, param_grid, n_jobs=-1, verbose=1)\n",
    "    grid_search.fit(data_train.text, data_train.sentiment)\n",
    "    predictions = grid_search.best_estimator_.predict(data_test.text)\n",
    "    probabilities = grid_search.best_estimator_.predict_proba(data_test.text)\n",
    "    current_test_df = pd.DataFrame(data_test.copy())\n",
    "    current_test_df[\"probabilities\"] = probabilities[:,1]\n",
    "    print(classification_report(data_test.sentiment, predictions))\n",
    "    print(\"SkLearn conf matrix\")\n",
    "    print(confusion_matrix(data_test.sentiment, predictions))\n",
    "    print(\"My conf matrix\")\n",
    "    print(f\"{tn(data_test.sentiment, predictions)} {fp(data_test.sentiment, predictions)}\\n{fn(data_test.sentiment, predictions)} {tp(data_test.sentiment, predictions)}\")\n",
    "    lr_auc = roc_auc_score(data_test.sentiment, predictions)\n",
    "    lr_fpr, lr_tpr, _ = roc_curve(data_test.sentiment, predictions)\n",
    "    pyplot.plot(lr_fpr, lr_tpr, marker='.', label='Model')\n",
    "    pyplot.xlabel('False Positive Rate')\n",
    "    pyplot.ylabel('True Positive Rate')\n",
    "    pyplot.legend()\n",
    "    pyplot.show()\n",
    "    print(\"The least positive reviews\")\n",
    "    print(current_test_df.nsmallest(15, columns=[\"probabilities\"]))\n",
    "    print(\"The most positive reviews\")\n",
    "    print(current_test_df.nlargest(15, columns=[\"probabilities\"]))"
   ]
  },
  {
   "cell_type": "markdown",
   "metadata": {},
   "source": [
    "# Logistic Regression"
   ]
  },
  {
   "cell_type": "code",
   "execution_count": 173,
   "metadata": {},
   "outputs": [
    {
     "name": "stdout",
     "output_type": "stream",
     "text": [
      "Fitting 3 folds for each of 18 candidates, totalling 54 fits\n"
     ]
    },
    {
     "name": "stderr",
     "output_type": "stream",
     "text": [
      "/Users/grigoriyarshinov/anaconda3/lib/python3.7/site-packages/sklearn/model_selection/_split.py:1978: FutureWarning: The default value of cv will change from 3 to 5 in version 0.22. Specify it explicitly to silence this warning.\n",
      "  warnings.warn(CV_WARNING, FutureWarning)\n",
      "[Parallel(n_jobs=-1)]: Using backend LokyBackend with 8 concurrent workers.\n",
      "[Parallel(n_jobs=-1)]: Done  34 tasks      | elapsed:  2.4min\n",
      "[Parallel(n_jobs=-1)]: Done  54 out of  54 | elapsed:  4.5min finished\n",
      "/Users/grigoriyarshinov/anaconda3/lib/python3.7/site-packages/sklearn/linear_model/logistic.py:947: ConvergenceWarning: lbfgs failed to converge. Increase the number of iterations.\n",
      "  \"of iterations.\", ConvergenceWarning)\n"
     ]
    },
    {
     "name": "stdout",
     "output_type": "stream",
     "text": [
      "{'mean_fit_time': array([ 6.39575235, 35.9665486 ,  7.11919999, 45.34167624,  8.59596833,\n",
      "       43.98543835,  7.63763134, 54.05744235,  9.24473524, 58.63155834,\n",
      "        9.56113132, 58.76267799,  9.11840431, 71.06241155,  8.94356998,\n",
      "       67.20721801, 10.88380925, 48.02898534]), 'std_fit_time': array([0.11396003, 0.19479813, 0.16690299, 3.47523523, 1.09718627,\n",
      "       4.64067137, 0.41641335, 6.82809469, 0.72358321, 8.7061554 ,\n",
      "       0.61618642, 9.2431872 , 0.08013059, 0.91150304, 0.8722042 ,\n",
      "       1.95063342, 0.24273842, 3.11246722]), 'mean_score_time': array([2.86752971, 7.05082313, 3.04372605, 6.46899374, 2.78969137,\n",
      "       7.43063132, 2.63946096, 6.92835236, 2.82209436, 7.40715122,\n",
      "       2.98559769, 7.2697889 , 2.89905532, 8.01017499, 2.85659989,\n",
      "       5.81031664, 2.98216271, 2.98312306]), 'std_score_time': array([0.03427124, 0.07658611, 0.32367753, 0.18764859, 0.17653687,\n",
      "       0.87306821, 0.11394228, 0.49128213, 0.34192201, 1.21007809,\n",
      "       0.31885903, 0.52946635, 0.31000929, 0.0667269 , 0.23518558,\n",
      "       0.90503586, 0.08824561, 0.48274076]), 'param_clf__C': masked_array(data=[1, 1, 1, 1, 1, 1, 5, 5, 5, 5, 5, 5, 30, 30, 30, 30, 30,\n",
      "                   30],\n",
      "             mask=[False, False, False, False, False, False, False, False,\n",
      "                   False, False, False, False, False, False, False, False,\n",
      "                   False, False],\n",
      "       fill_value='?',\n",
      "            dtype=object), 'param_clf__penalty': masked_array(data=['l2', 'l2', 'l2', 'l2', 'l2', 'l2', 'l2', 'l2', 'l2',\n",
      "                   'l2', 'l2', 'l2', 'l2', 'l2', 'l2', 'l2', 'l2', 'l2'],\n",
      "             mask=[False, False, False, False, False, False, False, False,\n",
      "                   False, False, False, False, False, False, False, False,\n",
      "                   False, False],\n",
      "       fill_value='?',\n",
      "            dtype=object), 'param_clf__solver': masked_array(data=['lbfgs', 'lbfgs', 'lbfgs', 'lbfgs', 'lbfgs', 'lbfgs',\n",
      "                   'lbfgs', 'lbfgs', 'lbfgs', 'lbfgs', 'lbfgs', 'lbfgs',\n",
      "                   'lbfgs', 'lbfgs', 'lbfgs', 'lbfgs', 'lbfgs', 'lbfgs'],\n",
      "             mask=[False, False, False, False, False, False, False, False,\n",
      "                   False, False, False, False, False, False, False, False,\n",
      "                   False, False],\n",
      "       fill_value='?',\n",
      "            dtype=object), 'param_vect__max_df': masked_array(data=[0.5, 0.5, 0.75, 0.75, 1.0, 1.0, 0.5, 0.5, 0.75, 0.75,\n",
      "                   1.0, 1.0, 0.5, 0.5, 0.75, 0.75, 1.0, 1.0],\n",
      "             mask=[False, False, False, False, False, False, False, False,\n",
      "                   False, False, False, False, False, False, False, False,\n",
      "                   False, False],\n",
      "       fill_value='?',\n",
      "            dtype=object), 'param_vect__ngram_range': masked_array(data=[(1, 1), (1, 2), (1, 1), (1, 2), (1, 1), (1, 2), (1, 1),\n",
      "                   (1, 2), (1, 1), (1, 2), (1, 1), (1, 2), (1, 1), (1, 2),\n",
      "                   (1, 1), (1, 2), (1, 1), (1, 2)],\n",
      "             mask=[False, False, False, False, False, False, False, False,\n",
      "                   False, False, False, False, False, False, False, False,\n",
      "                   False, False],\n",
      "       fill_value='?',\n",
      "            dtype=object), 'param_vect__use_idf': masked_array(data=[True, True, True, True, True, True, True, True, True,\n",
      "                   True, True, True, True, True, True, True, True, True],\n",
      "             mask=[False, False, False, False, False, False, False, False,\n",
      "                   False, False, False, False, False, False, False, False,\n",
      "                   False, False],\n",
      "       fill_value='?',\n",
      "            dtype=object), 'params': [{'clf__C': 1, 'clf__penalty': 'l2', 'clf__solver': 'lbfgs', 'vect__max_df': 0.5, 'vect__ngram_range': (1, 1), 'vect__use_idf': True}, {'clf__C': 1, 'clf__penalty': 'l2', 'clf__solver': 'lbfgs', 'vect__max_df': 0.5, 'vect__ngram_range': (1, 2), 'vect__use_idf': True}, {'clf__C': 1, 'clf__penalty': 'l2', 'clf__solver': 'lbfgs', 'vect__max_df': 0.75, 'vect__ngram_range': (1, 1), 'vect__use_idf': True}, {'clf__C': 1, 'clf__penalty': 'l2', 'clf__solver': 'lbfgs', 'vect__max_df': 0.75, 'vect__ngram_range': (1, 2), 'vect__use_idf': True}, {'clf__C': 1, 'clf__penalty': 'l2', 'clf__solver': 'lbfgs', 'vect__max_df': 1.0, 'vect__ngram_range': (1, 1), 'vect__use_idf': True}, {'clf__C': 1, 'clf__penalty': 'l2', 'clf__solver': 'lbfgs', 'vect__max_df': 1.0, 'vect__ngram_range': (1, 2), 'vect__use_idf': True}, {'clf__C': 5, 'clf__penalty': 'l2', 'clf__solver': 'lbfgs', 'vect__max_df': 0.5, 'vect__ngram_range': (1, 1), 'vect__use_idf': True}, {'clf__C': 5, 'clf__penalty': 'l2', 'clf__solver': 'lbfgs', 'vect__max_df': 0.5, 'vect__ngram_range': (1, 2), 'vect__use_idf': True}, {'clf__C': 5, 'clf__penalty': 'l2', 'clf__solver': 'lbfgs', 'vect__max_df': 0.75, 'vect__ngram_range': (1, 1), 'vect__use_idf': True}, {'clf__C': 5, 'clf__penalty': 'l2', 'clf__solver': 'lbfgs', 'vect__max_df': 0.75, 'vect__ngram_range': (1, 2), 'vect__use_idf': True}, {'clf__C': 5, 'clf__penalty': 'l2', 'clf__solver': 'lbfgs', 'vect__max_df': 1.0, 'vect__ngram_range': (1, 1), 'vect__use_idf': True}, {'clf__C': 5, 'clf__penalty': 'l2', 'clf__solver': 'lbfgs', 'vect__max_df': 1.0, 'vect__ngram_range': (1, 2), 'vect__use_idf': True}, {'clf__C': 30, 'clf__penalty': 'l2', 'clf__solver': 'lbfgs', 'vect__max_df': 0.5, 'vect__ngram_range': (1, 1), 'vect__use_idf': True}, {'clf__C': 30, 'clf__penalty': 'l2', 'clf__solver': 'lbfgs', 'vect__max_df': 0.5, 'vect__ngram_range': (1, 2), 'vect__use_idf': True}, {'clf__C': 30, 'clf__penalty': 'l2', 'clf__solver': 'lbfgs', 'vect__max_df': 0.75, 'vect__ngram_range': (1, 1), 'vect__use_idf': True}, {'clf__C': 30, 'clf__penalty': 'l2', 'clf__solver': 'lbfgs', 'vect__max_df': 0.75, 'vect__ngram_range': (1, 2), 'vect__use_idf': True}, {'clf__C': 30, 'clf__penalty': 'l2', 'clf__solver': 'lbfgs', 'vect__max_df': 1.0, 'vect__ngram_range': (1, 1), 'vect__use_idf': True}, {'clf__C': 30, 'clf__penalty': 'l2', 'clf__solver': 'lbfgs', 'vect__max_df': 1.0, 'vect__ngram_range': (1, 2), 'vect__use_idf': True}], 'split0_test_score': array([0.8899688 , 0.88444924, 0.88900888, 0.88444924, 0.88900888,\n",
      "       0.88444924, 0.89488841, 0.89176866, 0.89356851, 0.89272858,\n",
      "       0.89356851, 0.89272858, 0.88840893, 0.89656827, 0.88912887,\n",
      "       0.89788817, 0.88912887, 0.89788817]), 'split1_test_score': array([0.8899688 , 0.88084953, 0.88912887, 0.88072954, 0.88912887,\n",
      "       0.88072954, 0.89440845, 0.89272858, 0.8962083 , 0.8936885 ,\n",
      "       0.8962083 , 0.8936885 , 0.89224862, 0.89956803, 0.89236861,\n",
      "       0.89932805, 0.89236861, 0.89932805]), 'split2_test_score': array([0.88406145, 0.87734037, 0.88202112, 0.87698032, 0.88202112,\n",
      "       0.87698032, 0.88802208, 0.88850216, 0.88802208, 0.88862218,\n",
      "       0.88802208, 0.88862218, 0.88238118, 0.89246279, 0.88322132,\n",
      "       0.89150264, 0.88322132, 0.89150264]), 'mean_test_score': array([0.888  , 0.88088, 0.88672, 0.88072, 0.88672, 0.88072, 0.89244,\n",
      "       0.891  , 0.8926 , 0.89168, 0.8926 , 0.89168, 0.88768, 0.8962 ,\n",
      "       0.88824, 0.89624, 0.88824, 0.89624]), 'std_test_score': array([0.00278464, 0.00290221, 0.00332257, 0.00304912, 0.00332257,\n",
      "       0.00304912, 0.0031297 , 0.00180899, 0.0034114 , 0.00219718,\n",
      "       0.0034114 , 0.00219718, 0.00406113, 0.00291231, 0.00378682,\n",
      "       0.00340061, 0.00378682, 0.00340061]), 'rank_test_score': array([12, 16, 14, 17, 14, 17,  6,  9,  4,  7,  4,  7, 13,  3, 10,  1, 10,\n",
      "        1], dtype=int32)}\n",
      "              precision    recall  f1-score   support\n",
      "\n",
      "           0       0.89      0.89      0.89     12500\n",
      "           1       0.89      0.89      0.89     12500\n",
      "\n",
      "    accuracy                           0.89     25000\n",
      "   macro avg       0.89      0.89      0.89     25000\n",
      "weighted avg       0.89      0.89      0.89     25000\n",
      "\n",
      "SkLearn conf matrix\n",
      "[[11151  1349]\n",
      " [ 1356 11144]]\n",
      "My conf matrix\n",
      "11151 1349\n",
      "1356 11144\n"
     ]
    },
    {
     "data": {
      "image/png": "[encoded data removed]",
      "text/plain": [
       "<Figure size 432x288 with 1 Axes>"
      ]
     },
     "metadata": {
      "needs_background": "light"
     },
     "output_type": "display_data"
    },
    {
     "name": "stdout",
     "output_type": "stream",
     "text": [
      "The least positive reviewes\n",
      "                                                    text  sentiment  rating  \\\n",
      "19212  As you can tell from the other comments, this ...          0       2   \n",
      "13009  I rented this movie today... worst movie EVER....          0       1   \n",
      "23186  This movie was a complete waste of time. The s...          0       1   \n",
      "12884  This was truly horrible. Bad acting, bad writi...          0       1   \n",
      "23866  I'm in a film class and i know that i don't kn...          0       1   \n",
      "18200  One of the worst movies I've ever seen!!! Abso...          0       1   \n",
      "13634  This movie is pathetic in every way possible. ...          0       1   \n",
      "16975  Predator Island starts as six friends, Eric (T...          0       1   \n",
      "23098  This is just the same old crap that is spewed ...          0       2   \n",
      "15319  This was obviously the worst movie ever made.....          0       1   \n",
      "24977  The horrific production doesn't qualify as a \"...          0       1   \n",
      "17462  Larry Bishop directs, writes, and leads this s...          0       1   \n",
      "16046  Honestly awful film, bad editing, awful lighti...          0       1   \n",
      "18223  This was a very disappointing movie. I would d...          0       2   \n",
      "15068  One night on an independent channel famous for...          0       1   \n",
      "\n",
      "       probabilities  \n",
      "19212   2.153894e-08  \n",
      "13009   1.589983e-07  \n",
      "23186   4.714351e-07  \n",
      "12884   6.196575e-07  \n",
      "23866   7.834014e-07  \n",
      "18200   9.358608e-07  \n",
      "13634   1.014774e-06  \n",
      "16975   1.055850e-06  \n",
      "23098   1.059327e-06  \n",
      "15319   1.211281e-06  \n",
      "24977   1.245361e-06  \n",
      "17462   1.272719e-06  \n",
      "16046   1.699113e-06  \n",
      "18223   2.181714e-06  \n",
      "15068   2.715169e-06  \n",
      "The most positive reviewes\n",
      "                                                    text  sentiment  rating  \\\n",
      "545    What a wonderful film, filled with eccentric, ...          1       9   \n",
      "9563   This is a great German slasher, that's often q...          1       8   \n",
      "10730  This particular film was one that I wanted to ...          1       8   \n",
      "8444   lovely. i just love the movie. i want to see t...          1      10   \n",
      "11736  Wow! Fantastic film in my opinion, i wasn't ex...          1       8   \n",
      "5638   I'm normally not a Drama/Feel good movie kind ...          1      10   \n",
      "10742  I think this is one of the best tamil movies i...          1      10   \n",
      "9481   This is one of Bruce's most underrated films i...          1       9   \n",
      "235    This is a solid underrated little thriller, th...          1       8   \n",
      "4690   A beautiful, magical, thought-provoking and he...          1      10   \n",
      "4089   This is actually great fun. I really enjoyed i...          1       8   \n",
      "7404   For unknown reasons this beautiful masterpiece...          1      10   \n",
      "8291   It's rare for a film to sweep you away within ...          1      10   \n",
      "4079   When I saw this movie for the first time I was...          1       9   \n",
      "11118  Crossfire is a fantastic film noir that is bot...          1      10   \n",
      "\n",
      "       probabilities  \n",
      "545         0.999997  \n",
      "9563        0.999995  \n",
      "10730       0.999994  \n",
      "8444        0.999993  \n",
      "11736       0.999993  \n",
      "5638        0.999992  \n",
      "10742       0.999992  \n",
      "9481        0.999992  \n",
      "235         0.999991  \n",
      "4690        0.999988  \n",
      "4089        0.999987  \n",
      "7404        0.999974  \n",
      "8291        0.999972  \n",
      "4079        0.999970  \n",
      "11118       0.999970  \n"
     ]
    }
   ],
   "source": [
    "parameters = {\n",
    "    'vect__max_df': (0.5, 0.75, 1.0),\n",
    "    'vect__ngram_range': ((1, 1), (1, 2)),  # unigrams or bigrams\n",
    "    'vect__use_idf': (True,),\n",
    "    'clf__C': (1, 5, 30),\n",
    "    'clf__penalty': ('l2',),\n",
    "    'clf__solver': (\"lbfgs\",)\n",
    "}\n",
    "evaluate_model(LogisticRegression, parameters)"
   ]
  },
  {
   "cell_type": "markdown",
   "metadata": {},
   "source": [
    "# SGD Classifier"
   ]
  },
  {
   "cell_type": "code",
   "execution_count": 176,
   "metadata": {},
   "outputs": [
    {
     "name": "stdout",
     "output_type": "stream",
     "text": [
      "Fitting 3 folds for each of 24 candidates, totalling 72 fits\n"
     ]
    },
    {
     "name": "stderr",
     "output_type": "stream",
     "text": [
      "/Users/grigoriyarshinov/anaconda3/lib/python3.7/site-packages/sklearn/model_selection/_split.py:1978: FutureWarning: The default value of cv will change from 3 to 5 in version 0.22. Specify it explicitly to silence this warning.\n",
      "  warnings.warn(CV_WARNING, FutureWarning)\n",
      "[Parallel(n_jobs=-1)]: Using backend LokyBackend with 8 concurrent workers.\n",
      "[Parallel(n_jobs=-1)]: Done  34 tasks      | elapsed:  1.3min\n",
      "[Parallel(n_jobs=-1)]: Done  72 out of  72 | elapsed:  2.6min finished\n"
     ]
    },
    {
     "name": "stdout",
     "output_type": "stream",
     "text": [
      "              precision    recall  f1-score   support\n",
      "\n",
      "           0       0.89      0.89      0.89     12500\n",
      "           1       0.89      0.90      0.89     12500\n",
      "\n",
      "    accuracy                           0.89     25000\n",
      "   macro avg       0.89      0.89      0.89     25000\n",
      "weighted avg       0.89      0.89      0.89     25000\n",
      "\n",
      "SkLearn conf matrix\n",
      "[[11106  1394]\n",
      " [ 1309 11191]]\n",
      "My conf matrix\n",
      "11106 1394\n",
      "1309 11191\n"
     ]
    },
    {
     "data": {
      "image/png": "[encoded data removed]",
      "text/plain": [
       "<Figure size 432x288 with 1 Axes>"
      ]
     },
     "metadata": {
      "needs_background": "light"
     },
     "output_type": "display_data"
    },
    {
     "name": "stdout",
     "output_type": "stream",
     "text": [
      "The least positive reviews\n",
      "                                                    text  sentiment  rating  \\\n",
      "945    Haggard: The Movie is the real life story of R...          1      10   \n",
      "1944   What is your freaking problem? Do you have not...          1       8   \n",
      "2175   When the movie first started I thought cheesy....          1       9   \n",
      "2419   David Morse and Andre Braugher are very talent...          1       9   \n",
      "4078   This was Laurel and Hardy's last silent film f...          1       7   \n",
      "4756   \"Comanche Moon\" had everything going for it. F...          1       7   \n",
      "5611   I haven't read the Anne Rice novel that this m...          1       7   \n",
      "5660   Actually I'll admit I'm a political junkie, so...          1       8   \n",
      "8148   Simon Wests pg-13 thriller about a babysitter ...          1       7   \n",
      "8552   OK, yes its bad, yes its complete fluff, yes i...          1       9   \n",
      "9129   House of Dracula works from the same basic pre...          1       7   \n",
      "10374  Un Gatto nel Cervello, or Nightmare Concert as...          1       8   \n",
      "11283  **SPOILERS AHEAD**<br /><br />It is really unf...          1       7   \n",
      "11933  Yes, indeed we have a winner- a winner in best...          1      10   \n",
      "12504  I only comment on really very good films and o...          0       1   \n",
      "\n",
      "       probabilities  \n",
      "945              0.0  \n",
      "1944             0.0  \n",
      "2175             0.0  \n",
      "2419             0.0  \n",
      "4078             0.0  \n",
      "4756             0.0  \n",
      "5611             0.0  \n",
      "5660             0.0  \n",
      "8148             0.0  \n",
      "8552             0.0  \n",
      "9129             0.0  \n",
      "10374            0.0  \n",
      "11283            0.0  \n",
      "11933            0.0  \n",
      "12504            0.0  \n",
      "The most positive reviews\n",
      "                                                 text  sentiment  rating  \\\n",
      "7   There is no need for me to repeat the synopsis...          1      10   \n",
      "19  This is a great horror movie. Great Plot. And ...          1      10   \n",
      "22  Damien O'Donnell has a good track record and i...          1      10   \n",
      "23  THE ENGLISH PATIENT not only has it all (doome...          1      10   \n",
      "24  cool flick. enjoyable to watch. hope to see mo...          1       8   \n",
      "26  I have just finished watching this film for th...          1       7   \n",
      "29  The Cure is a fantastic film about a boy with ...          1      10   \n",
      "31  remember back when this movie was made by robe...          1       8   \n",
      "36  A strange relationship between a middle-aged w...          1       8   \n",
      "37  This is a brilliant, lavish Czech film from th...          1       8   \n",
      "41  Watching John Cassavetes debut film is a stran...          1       9   \n",
      "43  I was @ 13 yrs of age when I saw this greatly ...          1      10   \n",
      "45  'Crossing the Bridge: The Sound of Istanbul' i...          1       8   \n",
      "47  I bought my first Zep album in 1974 (at 17) an...          1      10   \n",
      "48  A brilliant film by the great John Waters. The...          1      10   \n",
      "\n",
      "    probabilities  \n",
      "7             1.0  \n",
      "19            1.0  \n",
      "22            1.0  \n",
      "23            1.0  \n",
      "24            1.0  \n",
      "26            1.0  \n",
      "29            1.0  \n",
      "31            1.0  \n",
      "36            1.0  \n",
      "37            1.0  \n",
      "41            1.0  \n",
      "43            1.0  \n",
      "45            1.0  \n",
      "47            1.0  \n",
      "48            1.0  \n"
     ]
    }
   ],
   "source": [
    "parameters = {\n",
    "    'vect__max_df': (0.5, 0.75, 1.0),\n",
    "    'vect__ngram_range': ((1, 1), (1, 2)),  # unigrams or bigrams\n",
    "    'vect__use_idf': (True,),\n",
    "    'clf__alpha': (1, 0.1, 0.0001, 0.000001),\n",
    "    'clf__penalty': ('l2',),\n",
    "    'clf__loss': [\"modified_huber\"]\n",
    "}\n",
    "evaluate_model(SGDClassifier, parameters)"
   ]
  },
  {
   "cell_type": "markdown",
   "metadata": {},
   "source": [
    "# Naive Bayes"
   ]
  },
  {
   "cell_type": "code",
   "execution_count": 178,
   "metadata": {},
   "outputs": [
    {
     "name": "stdout",
     "output_type": "stream",
     "text": [
      "Fitting 3 folds for each of 24 candidates, totalling 72 fits\n"
     ]
    },
    {
     "name": "stderr",
     "output_type": "stream",
     "text": [
      "/Users/grigoriyarshinov/anaconda3/lib/python3.7/site-packages/sklearn/model_selection/_split.py:1978: FutureWarning: The default value of cv will change from 3 to 5 in version 0.22. Specify it explicitly to silence this warning.\n",
      "  warnings.warn(CV_WARNING, FutureWarning)\n",
      "[Parallel(n_jobs=-1)]: Using backend LokyBackend with 8 concurrent workers.\n",
      "[Parallel(n_jobs=-1)]: Done  34 tasks      | elapsed:  1.3min\n",
      "[Parallel(n_jobs=-1)]: Done  72 out of  72 | elapsed:  2.6min finished\n"
     ]
    },
    {
     "name": "stdout",
     "output_type": "stream",
     "text": [
      "              precision    recall  f1-score   support\n",
      "\n",
      "           0       0.85      0.89      0.87     12500\n",
      "           1       0.88      0.84      0.86     12500\n",
      "\n",
      "    accuracy                           0.86     25000\n",
      "   macro avg       0.87      0.86      0.86     25000\n",
      "weighted avg       0.87      0.86      0.86     25000\n",
      "\n",
      "SkLearn conf matrix\n",
      "[[11138  1362]\n",
      " [ 2033 10467]]\n",
      "My conf matrix\n",
      "11138 1362\n",
      "2033 10467\n"
     ]
    },
    {
     "data": {
      "image/png": "[encoded data removed]",
      "text/plain": [
       "<Figure size 432x288 with 1 Axes>"
      ]
     },
     "metadata": {
      "needs_background": "light"
     },
     "output_type": "display_data"
    },
    {
     "name": "stdout",
     "output_type": "stream",
     "text": [
      "The least positive reviews\n",
      "                                                    text  sentiment  rating  \\\n",
      "19212  As you can tell from the other comments, this ...          0       2   \n",
      "19107  This movie is a complete and utter waste of ti...          0       1   \n",
      "18200  One of the worst movies I've ever seen!!! Abso...          0       1   \n",
      "13009  I rented this movie today... worst movie EVER....          0       1   \n",
      "20949  I've seen a lot of bad movies in my life. Date...          0       1   \n",
      "24952  Granted, HOTD 2 is better than the Uwe Boll cr...          0       4   \n",
      "16975  Predator Island starts as six friends, Eric (T...          0       1   \n",
      "17462  Larry Bishop directs, writes, and leads this s...          0       1   \n",
      "17014  My original comment on this particular title w...          0       1   \n",
      "14750  OK if you are looking for a fun lesbian romp. ...          0       2   \n",
      "23624  That's what me and my friends kept asking each...          0       1   \n",
      "17072  simply i just watched this movie just because ...          0       4   \n",
      "23186  This movie was a complete waste of time. The s...          0       1   \n",
      "23098  This is just the same old crap that is spewed ...          0       2   \n",
      "20309  Now we know where they got the idea of Snakes ...          0       1   \n",
      "\n",
      "       probabilities  \n",
      "19212       0.003349  \n",
      "19107       0.010200  \n",
      "18200       0.010875  \n",
      "13009       0.011356  \n",
      "20949       0.012180  \n",
      "24952       0.012677  \n",
      "16975       0.013716  \n",
      "17462       0.013742  \n",
      "17014       0.014074  \n",
      "14750       0.014164  \n",
      "23624       0.014783  \n",
      "17072       0.014925  \n",
      "23186       0.014967  \n",
      "23098       0.014975  \n",
      "20309       0.015012  \n",
      "The most positive reviews\n",
      "                                                    text  sentiment  rating  \\\n",
      "494    Moving beyond words is this heart breaking sto...          1       7   \n",
      "11118  Crossfire is a fantastic film noir that is bot...          1      10   \n",
      "12009  Although I'm not crazy about musicals, COVER G...          1       7   \n",
      "545    What a wonderful film, filled with eccentric, ...          1       9   \n",
      "3712   We have moved far beyond this tentative foray ...          1       8   \n",
      "140    We all want to fall in love... The experience ...          1       9   \n",
      "6203   The Hand of Death aka Countdown in Kung Fu (19...          1       7   \n",
      "10580  The Hand of Death aka Countdown in Kung Fu (19...          1       7   \n",
      "5638   I'm normally not a Drama/Feel good movie kind ...          1      10   \n",
      "8291   It's rare for a film to sweep you away within ...          1      10   \n",
      "11736  Wow! Fantastic film in my opinion, i wasn't ex...          1       8   \n",
      "857    \"Out to Sea\" is a fun movie starring that wond...          1       8   \n",
      "10986  I viewed this movie for the first time last ni...          1      10   \n",
      "11328  Easily one of my favourite dramatic TV films, ...          1      10   \n",
      "694    After five years in prison, Tony le Stéphanois...          1      10   \n",
      "\n",
      "       probabilities  \n",
      "494         0.960764  \n",
      "11118       0.960684  \n",
      "12009       0.954237  \n",
      "545         0.951579  \n",
      "3712        0.950902  \n",
      "140         0.950467  \n",
      "6203        0.949483  \n",
      "10580       0.949483  \n",
      "5638        0.946999  \n",
      "8291        0.946923  \n",
      "11736       0.945883  \n",
      "857         0.945075  \n",
      "10986       0.944504  \n",
      "11328       0.944315  \n",
      "694         0.942603  \n"
     ]
    }
   ],
   "source": [
    "parameters = {\n",
    "    'vect__max_df': (0.5, 0.75, 1.0),\n",
    "    'vect__ngram_range': ((1, 1), (1, 2)),  # unigrams or bigrams\n",
    "    'vect__use_idf': (True,),\n",
    "    'clf__alpha': [0.0001, 0.001, 0.01, 1.0]\n",
    "}\n",
    "evaluate_model(MultinomialNB, parameters)"
   ]
  },
  {
   "cell_type": "code",
   "execution_count": null,
   "metadata": {},
   "outputs": [],
   "source": []
  }
 ],
 "metadata": {
  "kernelspec": {
   "display_name": "Python 3",
   "language": "python",
   "name": "python3"
  },
  "language_info": {
   "codemirror_mode": {
    "name": "ipython",
    "version": 3
   },
   "file_extension": ".py",
   "mimetype": "text/x-python",
   "name": "python",
   "nbconvert_exporter": "python",
   "pygments_lexer": "ipython3",
   "version": "3.7.4"
  }
 },
 "nbformat": 4,
 "nbformat_minor": 2
}
