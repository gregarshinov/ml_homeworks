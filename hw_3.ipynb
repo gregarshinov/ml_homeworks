{
 "cells": [
  {
   "cell_type": "code",
   "execution_count": 20,
   "metadata": {},
   "outputs": [],
   "source": [
    "from sklearn.datasets import fetch_20newsgroups\n",
    "from sklearn.svm import LinearSVC\n",
    "from sklearn.linear_model import LogisticRegression\n",
    "from sklearn.neighbors import KNeighborsClassifier\n",
    "from sklearn.tree import DecisionTreeClassifier\n",
    "from sklearn.feature_extraction.text import CountVectorizer\n",
    "from sklearn.model_selection import GridSearchCV\n",
    "from sklearn.pipeline import Pipeline\n",
    "from sklearn.metrics import classification_report, confusion_matrix\n",
    "\n",
    "from nltk.corpus import stopwords"
   ]
  },
  {
   "cell_type": "code",
   "execution_count": 12,
   "metadata": {},
   "outputs": [],
   "source": [
    "stopwords_en = stopwords.words(\"english\")"
   ]
  },
  {
   "cell_type": "code",
   "execution_count": 10,
   "metadata": {
    "scrolled": true
   },
   "outputs": [],
   "source": [
    "data_train = fetch_20newsgroups(subset=\"train\", categories=[\"comp.graphics\", \"comp.windows.x\", \"rec.motorcycles\", \"rec.autos\"])\n",
    "data_test = fetch_20newsgroups(subset=\"test\", categories=[\"comp.graphics\", \"comp.windows.x\", \"rec.motorcycles\", \"rec.autos\"])"
   ]
  },
  {
   "cell_type": "markdown",
   "metadata": {},
   "source": [
    "## Обучение без обработки признаков"
   ]
  },
  {
   "cell_type": "code",
   "execution_count": 92,
   "metadata": {},
   "outputs": [
    {
     "data": {
      "text/plain": [
       "CountVectorizer(analyzer='word', binary=False, decode_error='strict',\n",
       "                dtype=<class 'numpy.int64'>, encoding='utf-8', input='content',\n",
       "                lowercase=True, max_df=1.0, max_features=None, min_df=1,\n",
       "                ngram_range=(1, 1), preprocessor=None, stop_words=None,\n",
       "                strip_accents=None, token_pattern='(?u)\\\\b\\\\w\\\\w+\\\\b',\n",
       "                tokenizer=None, vocabulary=None)"
      ]
     },
     "execution_count": 92,
     "metadata": {},
     "output_type": "execute_result"
    }
   ],
   "source": [
    "simple_vectorizer = CountVectorizer()\n",
    "simple_vectorizer.fit(data_train.data)"
   ]
  },
  {
   "cell_type": "code",
   "execution_count": 104,
   "metadata": {},
   "outputs": [],
   "source": [
    "def evaluate_model(model_class, vectorizer, param_grid):\n",
    "    pipeline = Pipeline([(\"vect\", vectorizer),\n",
    "                         (\"clf\", model_class())])\n",
    "    grid_search = GridSearchCV(pipeline, param_grid, n_jobs=-1, verbose=1, cv=5)\n",
    "    grid_search.fit(data_train.data, data_train.target)\n",
    "    predictions = grid_search.best_estimator_.predict(data_test.data)\n",
    "    print(classification_report(data_test.target, predictions))\n",
    "    print(\"Conf matrix\")\n",
    "    print(confusion_matrix(data_test.target, predictions))\n",
    "    return grid_search.best_estimator_"
   ]
  },
  {
   "cell_type": "code",
   "execution_count": 93,
   "metadata": {},
   "outputs": [
    {
     "name": "stdout",
     "output_type": "stream",
     "text": [
      "Fitting 5 folds for each of 14 candidates, totalling 70 fits\n"
     ]
    },
    {
     "name": "stderr",
     "output_type": "stream",
     "text": [
      "[Parallel(n_jobs=-1)]: Using backend LokyBackend with 8 concurrent workers.\n",
      "[Parallel(n_jobs=-1)]: Done  34 tasks      | elapsed:   15.7s\n",
      "[Parallel(n_jobs=-1)]: Done  70 out of  70 | elapsed:  3.0min finished\n",
      "/Users/grigoriyarshinov/anaconda3/lib/python3.7/site-packages/sklearn/linear_model/logistic.py:469: FutureWarning: Default multi_class will be changed to 'auto' in 0.22. Specify the multi_class option to silence this warning.\n",
      "  \"this warning.\", FutureWarning)\n"
     ]
    },
    {
     "name": "stdout",
     "output_type": "stream",
     "text": [
      "              precision    recall  f1-score   support\n",
      "\n",
      "           0       0.79      0.90      0.84       389\n",
      "           1       0.90      0.76      0.82       395\n",
      "           2       0.92      0.94      0.93       396\n",
      "           3       0.95      0.94      0.94       398\n",
      "\n",
      "    accuracy                           0.88      1578\n",
      "   macro avg       0.89      0.88      0.88      1578\n",
      "weighted avg       0.89      0.88      0.88      1578\n",
      "\n",
      "Conf matrix\n",
      "[[350  25  10   4]\n",
      " [ 83 301   5   6]\n",
      " [  9   5 371  11]\n",
      " [  2   4  19 373]]\n"
     ]
    }
   ],
   "source": [
    "params = {\n",
    "    \"clf__C\": [.1, .2, .5, .8, 1., 2, 10],\n",
    "    \"clf__penalty\": [\"l1\", \"l2\"],\n",
    "    \"clf__solver\": [\"liblinear\"]\n",
    "}\n",
    "log_reg = evaluate_model(LogisticRegression, simple_vectorizer, params)"
   ]
  },
  {
   "cell_type": "code",
   "execution_count": 94,
   "metadata": {},
   "outputs": [
    {
     "name": "stdout",
     "output_type": "stream",
     "text": [
      "Fitting 5 folds for each of 14 candidates, totalling 70 fits\n"
     ]
    },
    {
     "name": "stderr",
     "output_type": "stream",
     "text": [
      "[Parallel(n_jobs=-1)]: Using backend LokyBackend with 8 concurrent workers.\n",
      "[Parallel(n_jobs=-1)]: Done  34 tasks      | elapsed:   10.4s\n",
      "[Parallel(n_jobs=-1)]: Done  70 out of  70 | elapsed:   21.2s finished\n"
     ]
    },
    {
     "name": "stdout",
     "output_type": "stream",
     "text": [
      "              precision    recall  f1-score   support\n",
      "\n",
      "           0       0.77      0.89      0.83       389\n",
      "           1       0.88      0.75      0.81       395\n",
      "           2       0.90      0.90      0.90       396\n",
      "           3       0.94      0.93      0.93       398\n",
      "\n",
      "    accuracy                           0.87      1578\n",
      "   macro avg       0.87      0.87      0.87      1578\n",
      "weighted avg       0.87      0.87      0.87      1578\n",
      "\n",
      "Conf matrix\n",
      "[[347  27  12   3]\n",
      " [ 85 298   6   6]\n",
      " [ 16   8 358  14]\n",
      " [  4   4  21 369]]\n"
     ]
    }
   ],
   "source": [
    "params = {\n",
    "    \"clf__C\": [.1, .2, .5, .8, 1., 2, 10],\n",
    "    \"clf__penalty\": [\"l2\"],\n",
    "    \"clf__loss\": [\"hinge\", \"squared_hinge\"]\n",
    "}\n",
    "svm = evaluate_model(LinearSVC, simple_vectorizer, params)"
   ]
  },
  {
   "cell_type": "code",
   "execution_count": 95,
   "metadata": {},
   "outputs": [
    {
     "name": "stdout",
     "output_type": "stream",
     "text": [
      "Fitting 5 folds for each of 4 candidates, totalling 20 fits\n"
     ]
    },
    {
     "name": "stderr",
     "output_type": "stream",
     "text": [
      "[Parallel(n_jobs=-1)]: Using backend LokyBackend with 8 concurrent workers.\n",
      "[Parallel(n_jobs=-1)]: Done  20 out of  20 | elapsed:    8.3s finished\n"
     ]
    },
    {
     "name": "stdout",
     "output_type": "stream",
     "text": [
      "              precision    recall  f1-score   support\n",
      "\n",
      "           0       0.67      0.67      0.67       389\n",
      "           1       0.70      0.70      0.70       395\n",
      "           2       0.76      0.79      0.77       396\n",
      "           3       0.86      0.84      0.85       398\n",
      "\n",
      "    accuracy                           0.75      1578\n",
      "   macro avg       0.75      0.75      0.75      1578\n",
      "weighted avg       0.75      0.75      0.75      1578\n",
      "\n",
      "Conf matrix\n",
      "[[260  76  36  17]\n",
      " [ 76 276  26  17]\n",
      " [ 34  29 311  22]\n",
      " [ 17  13  35 333]]\n"
     ]
    }
   ],
   "source": [
    "params = {\n",
    "    \"clf__criterion\": [\"gini\", \"entropy\"],\n",
    "    \"clf__splitter\": [\"best\", \"random\"],\n",
    "}\n",
    "tree = evaluate_model(DecisionTreeClassifier, simple_vectorizer, params)"
   ]
  },
  {
   "cell_type": "code",
   "execution_count": 99,
   "metadata": {},
   "outputs": [
    {
     "name": "stdout",
     "output_type": "stream",
     "text": [
      "<class 'sklearn.linear_model.logistic.LogisticRegression'>\n",
      "graphics\n",
      "images\n",
      "3d\n",
      "image\n",
      "pov\n",
      "card\n",
      "files\n",
      "tiff\n",
      "vga\n",
      "cview\n",
      "______________\n",
      "<class 'sklearn.linear_model.logistic.LogisticRegression'>\n",
      "motif\n",
      "window\n",
      "server\n",
      "x11r5\n",
      "mit\n",
      "widget\n",
      "xterm\n",
      "lcs\n",
      "an\n",
      "internet\n",
      "______________\n",
      "<class 'sklearn.linear_model.logistic.LogisticRegression'>\n",
      "car\n",
      "cars\n",
      "toyota\n",
      "auto\n",
      "automotive\n",
      "eliot\n",
      "ford\n",
      "distribution\n",
      "dealer\n",
      "warning\n",
      "______________\n",
      "<class 'sklearn.linear_model.logistic.LogisticRegression'>\n",
      "dod\n",
      "bike\n",
      "motorcycle\n",
      "bikes\n",
      "motorcycles\n",
      "ride\n",
      "riding\n",
      "bmw\n",
      "cornell\n",
      "being\n",
      "______________\n",
      "<class 'sklearn.svm.classes.LinearSVC'>\n",
      "graphics\n",
      "images\n",
      "pov\n",
      "3d\n",
      "image\n",
      "card\n",
      "files\n",
      "vga\n",
      "24\n",
      "algorithm\n",
      "______________\n",
      "<class 'sklearn.svm.classes.LinearSVC'>\n",
      "motif\n",
      "window\n",
      "x11r5\n",
      "server\n",
      "mit\n",
      "widget\n",
      "lcs\n",
      "xterm\n",
      "an\n",
      "terminal\n",
      "______________\n",
      "<class 'sklearn.svm.classes.LinearSVC'>\n",
      "car\n",
      "cars\n",
      "toyota\n",
      "auto\n",
      "eliot\n",
      "automotive\n",
      "distribution\n",
      "warning\n",
      "testing\n",
      "buying\n",
      "______________\n",
      "<class 'sklearn.svm.classes.LinearSVC'>\n",
      "bike\n",
      "dod\n",
      "motorcycle\n",
      "bikes\n",
      "motorcycles\n",
      "riding\n",
      "cornell\n",
      "ride\n",
      "tools\n",
      "being\n",
      "______________\n",
      "<class 'sklearn.tree.tree.DecisionTreeClassifier'>\n",
      "dod\n",
      "car\n",
      "bike\n",
      "mit\n",
      "graphics\n",
      "window\n",
      "cars\n",
      "motif\n",
      "x11r5\n",
      "image\n",
      "______________\n"
     ]
    }
   ],
   "source": [
    "index_to_word = {v:k for k,v in simple_vectorizer.vocabulary_.items()}\n",
    "\n",
    "def analyze_features(coeffs, n):\n",
    "    top = sorted(index_to_word.items(), key=lambda idx_wrd: coeffs[idx_wrd[0]], reverse=True)\n",
    "    for word in islice(top, n):\n",
    "        print(word[1])\n",
    "\n",
    "models = [\n",
    "    (type(log_reg[\"clf\"]), log_reg[\"clf\"].coef_),\n",
    "    (type(svm[\"clf\"]), svm[\"clf\"].coef_),\n",
    "    (type(tree[\"clf\"]), tree[\"clf\"].feature_importances_)\n",
    "]\n",
    "\n",
    "for model_name, coeff in models:\n",
    "    for target in coeff if len(coeff.shape) > 1 else [coeff]:\n",
    "        print(str(model_name))\n",
    "        analyze_features(target, 10)\n",
    "        print(\"______________\")"
   ]
  },
  {
   "cell_type": "markdown",
   "metadata": {},
   "source": [
    "## Обучение с предобработкой и нграммами"
   ]
  },
  {
   "cell_type": "code",
   "execution_count": 101,
   "metadata": {},
   "outputs": [],
   "source": [
    "word_reg = r\"\\b[a-z]+\\b\""
   ]
  },
  {
   "cell_type": "code",
   "execution_count": 102,
   "metadata": {},
   "outputs": [
    {
     "data": {
      "text/plain": [
       "CountVectorizer(analyzer='word', binary=False, decode_error='strict',\n",
       "                dtype=<class 'numpy.int64'>, encoding='utf-8', input='content',\n",
       "                lowercase=True, max_df=1.0, max_features=None, min_df=1,\n",
       "                ngram_range=(1, 3), preprocessor=None,\n",
       "                stop_words=['i', 'me', 'my', 'myself', 'we', 'our', 'ours',\n",
       "                            'ourselves', 'you', \"you're\", \"you've\", \"you'll\",\n",
       "                            \"you'd\", 'your', 'yours', 'yourself', 'yourselves',\n",
       "                            'he', 'him', 'his', 'himself', 'she', \"she's\",\n",
       "                            'her', 'hers', 'herself', 'it', \"it's\", 'its',\n",
       "                            'itself', ...],\n",
       "                strip_accents=None, token_pattern='\\\\b[a-z]+\\\\b',\n",
       "                tokenizer=None, vocabulary=None)"
      ]
     },
     "execution_count": 102,
     "metadata": {},
     "output_type": "execute_result"
    }
   ],
   "source": [
    "vectorizer = CountVectorizer(stop_words=stopwords_en, token_pattern=word_reg, ngram_range=(1, 3))\n",
    "vectorizer.fit(data_train.data)"
   ]
  },
  {
   "cell_type": "code",
   "execution_count": 105,
   "metadata": {},
   "outputs": [
    {
     "name": "stdout",
     "output_type": "stream",
     "text": [
      "Fitting 5 folds for each of 14 candidates, totalling 70 fits\n"
     ]
    },
    {
     "name": "stderr",
     "output_type": "stream",
     "text": [
      "[Parallel(n_jobs=-1)]: Using backend LokyBackend with 8 concurrent workers.\n",
      "[Parallel(n_jobs=-1)]: Done  34 tasks      | elapsed:  1.1min\n",
      "[Parallel(n_jobs=-1)]: Done  70 out of  70 | elapsed:  3.4min finished\n",
      "/Users/grigoriyarshinov/anaconda3/lib/python3.7/site-packages/sklearn/linear_model/logistic.py:469: FutureWarning: Default multi_class will be changed to 'auto' in 0.22. Specify the multi_class option to silence this warning.\n",
      "  \"this warning.\", FutureWarning)\n"
     ]
    },
    {
     "name": "stdout",
     "output_type": "stream",
     "text": [
      "              precision    recall  f1-score   support\n",
      "\n",
      "           0       0.79      0.91      0.85       389\n",
      "           1       0.92      0.80      0.86       395\n",
      "           2       0.93      0.93      0.93       396\n",
      "           3       0.96      0.94      0.95       398\n",
      "\n",
      "    accuracy                           0.90      1578\n",
      "   macro avg       0.90      0.90      0.90      1578\n",
      "weighted avg       0.90      0.90      0.90      1578\n",
      "\n",
      "Conf matrix\n",
      "[[353  19  12   5]\n",
      " [ 72 317   3   3]\n",
      " [ 15   4 369   8]\n",
      " [  6   4  14 374]]\n"
     ]
    }
   ],
   "source": [
    "params = {\n",
    "    \"clf__C\": [.1, .2, .5, .8, 1., 2, 10],\n",
    "    \"clf__penalty\": [\"l1\", \"l2\"],\n",
    "    \"clf__solver\": [\"liblinear\"]\n",
    "}\n",
    "log_reg = evaluate_model(LogisticRegression, vectorizer, params)"
   ]
  },
  {
   "cell_type": "code",
   "execution_count": 106,
   "metadata": {},
   "outputs": [
    {
     "name": "stdout",
     "output_type": "stream",
     "text": [
      "Fitting 5 folds for each of 14 candidates, totalling 70 fits\n"
     ]
    },
    {
     "name": "stderr",
     "output_type": "stream",
     "text": [
      "[Parallel(n_jobs=-1)]: Using backend LokyBackend with 8 concurrent workers.\n",
      "[Parallel(n_jobs=-1)]: Done  34 tasks      | elapsed:   32.6s\n",
      "[Parallel(n_jobs=-1)]: Done  70 out of  70 | elapsed:  1.3min finished\n"
     ]
    },
    {
     "name": "stdout",
     "output_type": "stream",
     "text": [
      "              precision    recall  f1-score   support\n",
      "\n",
      "           0       0.80      0.92      0.85       389\n",
      "           1       0.92      0.80      0.86       395\n",
      "           2       0.93      0.93      0.93       396\n",
      "           3       0.97      0.94      0.95       398\n",
      "\n",
      "    accuracy                           0.90      1578\n",
      "   macro avg       0.90      0.90      0.90      1578\n",
      "weighted avg       0.90      0.90      0.90      1578\n",
      "\n",
      "Conf matrix\n",
      "[[357  19  11   2]\n",
      " [ 71 317   4   3]\n",
      " [ 15   4 369   8]\n",
      " [  6   4  13 375]]\n"
     ]
    }
   ],
   "source": [
    "params = {\n",
    "    \"clf__C\": [.1, .2, .5, .8, 1., 2, 10],\n",
    "    \"clf__penalty\": [\"l2\"],\n",
    "    \"clf__loss\": [\"hinge\", \"squared_hinge\"]\n",
    "}\n",
    "svm = evaluate_model(LinearSVC, vectorizer, params)"
   ]
  },
  {
   "cell_type": "code",
   "execution_count": 107,
   "metadata": {},
   "outputs": [
    {
     "name": "stdout",
     "output_type": "stream",
     "text": [
      "Fitting 5 folds for each of 4 candidates, totalling 20 fits\n"
     ]
    },
    {
     "name": "stderr",
     "output_type": "stream",
     "text": [
      "[Parallel(n_jobs=-1)]: Using backend LokyBackend with 8 concurrent workers.\n",
      "[Parallel(n_jobs=-1)]: Done  20 out of  20 | elapsed:   29.2s finished\n"
     ]
    },
    {
     "name": "stdout",
     "output_type": "stream",
     "text": [
      "              precision    recall  f1-score   support\n",
      "\n",
      "           0       0.66      0.72      0.69       389\n",
      "           1       0.74      0.71      0.72       395\n",
      "           2       0.79      0.77      0.78       396\n",
      "           3       0.86      0.83      0.84       398\n",
      "\n",
      "    accuracy                           0.76      1578\n",
      "   macro avg       0.76      0.76      0.76      1578\n",
      "weighted avg       0.76      0.76      0.76      1578\n",
      "\n",
      "Conf matrix\n",
      "[[279  74  26  10]\n",
      " [ 81 281  20  13]\n",
      " [ 41  18 305  32]\n",
      " [ 24   9  35 330]]\n"
     ]
    }
   ],
   "source": [
    "params = {\n",
    "    \"clf__criterion\": [\"gini\", \"entropy\"],\n",
    "    \"clf__splitter\": [\"best\", \"random\"],\n",
    "}\n",
    "tree = evaluate_model(DecisionTreeClassifier, vectorizer, params)"
   ]
  },
  {
   "cell_type": "code",
   "execution_count": 108,
   "metadata": {},
   "outputs": [
    {
     "name": "stdout",
     "output_type": "stream",
     "text": [
      "<class 'sklearn.linear_model.logistic.LogisticRegression'>\n",
      "graphics\n",
      "image\n",
      "images\n",
      "files\n",
      "card\n",
      "tiff\n",
      "pov\n",
      "format\n",
      "vga\n",
      "software\n",
      "______________\n",
      "<class 'sklearn.linear_model.logistic.LogisticRegression'>\n",
      "motif\n",
      "x\n",
      "window\n",
      "widget\n",
      "server\n",
      "xterm\n",
      "mit\n",
      "mit edu\n",
      "application\n",
      "set\n",
      "______________\n",
      "<class 'sklearn.linear_model.logistic.LogisticRegression'>\n",
      "car\n",
      "cars\n",
      "toyota\n",
      "auto\n",
      "ford\n",
      "engine\n",
      "dealer\n",
      "oil\n",
      "automotive\n",
      "eliot\n",
      "______________\n",
      "<class 'sklearn.linear_model.logistic.LogisticRegression'>\n",
      "bike\n",
      "dod\n",
      "bikes\n",
      "motorcycle\n",
      "ride\n",
      "riding\n",
      "motorcycles\n",
      "bmw\n",
      "sale\n",
      "helmet\n",
      "______________\n",
      "<class 'sklearn.svm.classes.LinearSVC'>\n",
      "graphics\n",
      "image\n",
      "images\n",
      "card\n",
      "pov\n",
      "files\n",
      "vga\n",
      "tiff\n",
      "package\n",
      "software\n",
      "______________\n",
      "<class 'sklearn.svm.classes.LinearSVC'>\n",
      "motif\n",
      "x\n",
      "window\n",
      "widget\n",
      "server\n",
      "xterm\n",
      "mit\n",
      "subject x\n",
      "set\n",
      "source\n",
      "______________\n",
      "<class 'sklearn.svm.classes.LinearSVC'>\n",
      "car\n",
      "cars\n",
      "toyota\n",
      "auto\n",
      "ford\n",
      "mazda\n",
      "eliot\n",
      "dealer\n",
      "automotive\n",
      "chevrolet\n",
      "______________\n",
      "<class 'sklearn.svm.classes.LinearSVC'>\n",
      "bike\n",
      "dod\n",
      "motorcycle\n",
      "bikes\n",
      "motorcycles\n",
      "riding\n",
      "ride\n",
      "sale\n",
      "bmw\n",
      "tools\n",
      "______________\n",
      "<class 'sklearn.tree.tree.DecisionTreeClassifier'>\n",
      "car\n",
      "dod\n",
      "bikes\n",
      "bike\n",
      "cars\n",
      "server\n",
      "organization internet lines\n",
      "graphics\n",
      "riding\n",
      "manager\n",
      "______________\n"
     ]
    }
   ],
   "source": [
    "index_to_word = {v:k for k,v in vectorizer.vocabulary_.items()}\n",
    "\n",
    "def analyze_features(coeffs, n):\n",
    "    top = sorted(index_to_word.items(), key=lambda idx_wrd: coeffs[idx_wrd[0]], reverse=True)\n",
    "    for word in islice(top, n):\n",
    "        print(word[1])\n",
    "\n",
    "models = [\n",
    "    (type(log_reg[\"clf\"]), log_reg[\"clf\"].coef_),\n",
    "    (type(svm[\"clf\"]), svm[\"clf\"].coef_),\n",
    "    (type(tree[\"clf\"]), tree[\"clf\"].feature_importances_)\n",
    "]\n",
    "\n",
    "for model_name, coeff in models:\n",
    "    for target in coeff if len(coeff.shape) > 1 else [coeff]:\n",
    "        print(str(model_name))\n",
    "        analyze_features(target, 10)\n",
    "        print(\"______________\")"
   ]
  }
 ],
 "metadata": {
  "kernelspec": {
   "display_name": "Python 3",
   "language": "python",
   "name": "python3"
  },
  "language_info": {
   "codemirror_mode": {
    "name": "ipython",
    "version": 3
   },
   "file_extension": ".py",
   "mimetype": "text/x-python",
   "name": "python",
   "nbconvert_exporter": "python",
   "pygments_lexer": "ipython3",
   "version": "3.7.4"
  }
 },
 "nbformat": 4,
 "nbformat_minor": 2
}
