{
 "cells": [
  {
   "cell_type": "code",
   "execution_count": 1,
   "metadata": {
    "colab": {},
    "colab_type": "code",
    "id": "ReDGEx5gXHO1"
   },
   "outputs": [],
   "source": [
    "import pandas as pd\n",
    "from pathlib import Path\n",
    "%matplotlib inline"
   ]
  },
  {
   "cell_type": "markdown",
   "metadata": {
    "colab_type": "text",
    "id": "XWxjK3SrXHO8"
   },
   "source": [
    "## Описательный анализ данных (как минимум 10 разных статистик) - 1 "
   ]
  },
  {
   "cell_type": "code",
   "execution_count": 2,
   "metadata": {
    "colab": {},
    "colab_type": "code",
    "id": "_P2_1yZRXHO-"
   },
   "outputs": [],
   "source": [
    "DATA_HOME = Path(r\"data\")"
   ]
  },
  {
   "cell_type": "code",
   "execution_count": null,
   "metadata": {
    "colab": {},
    "colab_type": "code",
    "id": "USssSGJyXHPC"
   },
   "outputs": [],
   "source": [
    "toxic_train_df = pd.read_csv(DATA_HOME.joinpath('jigsaw-toxic-comment-train.csv'))\n",
    "bias_train_df = pd.read_csv(DATA_HOME.joinpath('jigsaw-unintended-bias-train.csv'))"
   ]
  },
  {
   "cell_type": "code",
   "execution_count": null,
   "metadata": {
    "colab": {},
    "colab_type": "code",
    "id": "BW3f2h11XHPG"
   },
   "outputs": [],
   "source": [
    "import regex as re\n",
    "from nltk import sent_tokenize, word_tokenize\n",
    "from string import punctuation\n",
    "from typing import List\n",
    "from lazy_property import LazyProperty\n",
    "import numpy as np\n",
    "\n",
    "symbol_multiplication_re = re.compile(r'(\\w)\\1{2,}')\n",
    "exclamation_multiplication_re = re.compile(r'(!)\\1{2,}')\n",
    "interrogation_multiplication_re = re.compile(r'(\\?)\\1{2,}')\n",
    "caps_re = re.compile(r'\\b\\p{Lu}+\\b')\n",
    "EXCLAMATION_RE = re.compile(r'!+')\n",
    "INTERROGATION_RE = re.compile(r'\\?+')\n",
    "\n",
    "CONTRACTION_MAP = {\n",
    "    \"'m\": \"am\",\n",
    "    \"'s'\": \"is\",\n",
    "    \"n't\": \"not\",\n",
    "    \"'re'\": \"are\"\n",
    "}\n",
    "\n",
    "class Word:\n",
    "    symbols: str\n",
    "\n",
    "    def __init__(self, word: str):\n",
    "        self.symbols = word\n",
    "        \n",
    "    def __len__(self):\n",
    "        return len(self.symbols)\n",
    "    \n",
    "    @property\n",
    "    def has_multiplied_characters(self):\n",
    "        return bool(symbol_multiplication_re.match(self.symbols))\n",
    "    \n",
    "    @property\n",
    "    def is_a_contraction(self):\n",
    "        return self.symbols in CONTRACTION_MAP\n",
    "\n",
    "\n",
    "DICT = {}\n",
    "\n",
    "\n",
    "class Sentence:\n",
    "    text: str\n",
    "    words: List[Word]\n",
    "    tokens: List[str]\n",
    "\n",
    "    def __init__(self, text: str):\n",
    "        self.text = text\n",
    "        self.words = []\n",
    "        self.tokens = []\n",
    "        self.__parse_words()\n",
    "        self.symbol_count = 0\n",
    "        self.average_symbol_count = .0\n",
    "        self.__count_metrics()\n",
    "\n",
    "    def __parse_words(self):\n",
    "        for token in word_tokenize(self.text):\n",
    "            if token not in punctuation:\n",
    "                self.words.append(Word(token))\n",
    "            self.tokens.append(token)\n",
    "\n",
    "    def __len__(self):\n",
    "        return len(self.words)\n",
    "\n",
    "    def __iter__(self) -> Word:\n",
    "        for word in self.words:\n",
    "            yield word\n",
    "\n",
    "    def __str__(self):\n",
    "        return self.text\n",
    "\n",
    "    def __count_metrics(self):\n",
    "        for word in self:\n",
    "            self.symbol_count += len(word)\n",
    "\n",
    "\n",
    "class Text:\n",
    "    sentences: List[Sentence]\n",
    "    text: str\n",
    "    lang: str\n",
    "\n",
    "    def __init__(self, text_string: str, lang: str = 'english'):\n",
    "        self.lang = lang\n",
    "        self.text = text_string\n",
    "        self.sentences = []\n",
    "        self.words = []\n",
    "        self.__parse()\n",
    "        self.total_words = 0\n",
    "        self.total_words_with_multiplied_chars = 0\n",
    "        self.total_symbols = 0\n",
    "\n",
    "        self.total_exclamative = 0\n",
    "        self.total_interrogative = 0\n",
    "\n",
    "    def __parse(self):\n",
    "        for sent in sent_tokenize(self.text, self.lang):\n",
    "            self.sentences.append(Sentence(sent))\n",
    "\n",
    "    def __len__(self):\n",
    "        return len(self.sentences)\n",
    "\n",
    "    def __iter__(self) -> Sentence:\n",
    "        for sent in self.sentences:\n",
    "            yield sent\n",
    "\n",
    "    @LazyProperty\n",
    "    def word_count(self):\n",
    "        return sum(len(sent) for sent in self)\n",
    "    \n",
    "    @property\n",
    "    def prolonged_words_count(self):\n",
    "        return self.total_words_with_multiplied_chars\n",
    "\n",
    "\n",
    "    def count_metrics(self):\n",
    "        if self.word_count:\n",
    "            for sent in filter(lambda s: len(s), self):\n",
    "                self.total_symbols += sent.symbol_count\n",
    "                for word in sent:\n",
    "                    self.words.append(word)\n",
    "                    if word.has_multiplied_characters:\n",
    "                        self.total_words_with_multiplied_chars += 1\n",
    "\n",
    "\n",
    "    @property\n",
    "    def sent_in_words_average_len(self):\n",
    "        if len(self):\n",
    "            return self.word_count / len(self)\n",
    "        return np.nan\n",
    "\n",
    "\n",
    "    @property\n",
    "    def sent_sym_average_len(self):\n",
    "        if len(self):\n",
    "            return self.total_symbols / len(self)\n",
    "        return np.nan\n",
    "\n",
    "    @property\n",
    "    def word_in_sym_average_len(self):\n",
    "        if self.word_count:\n",
    "            return self.total_symbols / self.word_count\n",
    "        return np.nan\n",
    "\n",
    "\n",
    "    @property\n",
    "    def interrogative_sent_word_ratio(self):\n",
    "        if len(self):\n",
    "            return len(INTERROGATION_RE.findall(self.text)) / len(self)\n",
    "        return np.nan\n",
    "\n",
    "    @property\n",
    "    def exclamative_sent_word_ratio(self):\n",
    "        if len(self.text):\n",
    "            return len(EXCLAMATION_RE.findall(self.text)) / len(self)\n",
    "        return np.nan\n",
    "    \n",
    "    @property\n",
    "    def total_multiplied_exclamations(self):\n",
    "        if len(self.text):\n",
    "            return len(exclamation_multiplication_re.findall(self.text))\n",
    "        return np.nan\n",
    "    \n",
    "    @property\n",
    "    def total_multiplied_interrogations(self):\n",
    "        return len(interrogation_multiplication_re.findall(self.text))"
   ]
  },
  {
   "cell_type": "code",
   "execution_count": null,
   "metadata": {
    "colab": {},
    "colab_type": "code",
    "id": "aWflMi_wXHPJ"
   },
   "outputs": [],
   "source": [
    "from tqdm.notebook import trange, tqdm"
   ]
  },
  {
   "cell_type": "code",
   "execution_count": null,
   "metadata": {
    "colab": {
     "referenced_widgets": [
      "dd5477c5168944fa856d3f258117d8d1"
     ]
    },
    "colab_type": "code",
    "id": "ixvCAXM_XHPM",
    "outputId": "2ce001ef-39d9-45a0-b11e-1fb7c11271c2"
   },
   "outputs": [
    {
     "data": {
      "application/vnd.jupyter.widget-view+json": {
       "model_id": "dd5477c5168944fa856d3f258117d8d1",
       "version_major": 2,
       "version_minor": 0
      },
      "text/plain": [
       "HBox(children=(FloatProgress(value=0.0, max=44863.0), HTML(value='')))"
      ]
     },
     "metadata": {
      "tags": []
     },
     "output_type": "display_data"
    },
    {
     "name": "stdout",
     "output_type": "stream",
     "text": [
      "\n"
     ]
    }
   ],
   "source": [
    "for idx in tqdm(train_df.index[train_df.index >= 178686]):\n",
    "    text = Text(train_df.loc[idx, \"comment_text\"])\n",
    "    text.count_metrics()\n",
    "    train_df.loc[idx, \"word_count\"] = text.word_count\n",
    "    train_df.loc[idx, \"sent_count\"] = len(text)\n",
    "    train_df.loc[idx, \"sym_count\"] = text.total_symbols\n",
    "    train_df.loc[idx, \"total_multiplied_interrogations\"] = text.total_multiplied_interrogations\n",
    "    train_df.loc[idx, \"total_multiplied_exclamations\"] = text.total_multiplied_exclamations\n",
    "    train_df.loc[idx, \"exclamative_sent_word_ratio\"] = text.exclamative_sent_word_ratio\n",
    "    train_df.loc[idx, \"interrogative_sent_word_ratio\"] = text.interrogative_sent_word_ratio\n",
    "    train_df.loc[idx, \"word_in_sym_average_len\"] = text.word_in_sym_average_len\n",
    "    train_df.loc[idx, \"sent_sym_average_len\"] = text.sent_sym_average_len\n",
    "    train_df.loc[idx, \"sent_in_words_average_len\"] = text.sent_in_words_average_len\n",
    "    train_df.loc[idx, \"prolonged_words_count\"] = text.prolonged_words_count"
   ]
  },
  {
   "cell_type": "code",
   "execution_count": null,
   "metadata": {
    "colab": {
     "referenced_widgets": [
      "1ceb25ce65c04b249484e680e6175288"
     ]
    },
    "colab_type": "code",
    "id": "MJpU1xkFXHPO",
    "outputId": "3f988f9c-1a1a-4b73-c8bd-9b0463e60a47"
   },
   "outputs": [
    {
     "data": {
      "application/vnd.jupyter.widget-view+json": {
       "model_id": "1ceb25ce65c04b249484e680e6175288",
       "version_major": 2,
       "version_minor": 0
      },
      "text/plain": [
       "HBox(children=(FloatProgress(value=0.0, max=8000.0), HTML(value='')))"
      ]
     },
     "metadata": {
      "tags": []
     },
     "output_type": "display_data"
    },
    {
     "name": "stdout",
     "output_type": "stream",
     "text": [
      "\n"
     ]
    }
   ],
   "source": [
    "for idx in tqdm(val_df.index):\n",
    "    text = Text(val_df.loc[idx, \"comment_text\"])\n",
    "    text.count_metrics()\n",
    "    val_df.loc[idx, \"word_count\"] = text.word_count\n",
    "    val_df.loc[idx, \"sent_count\"] = len(text)\n",
    "    val_df.loc[idx, \"sym_count\"] = text.total_symbols\n",
    "    val_df.loc[idx, \"total_multiplied_interrogations\"] = text.total_multiplied_interrogations\n",
    "    val_df.loc[idx, \"total_multiplied_exclamations\"] = text.total_multiplied_exclamations\n",
    "    val_df.loc[idx, \"exclamative_sent_word_ratio\"] = text.exclamative_sent_word_ratio\n",
    "    val_df.loc[idx, \"interrogative_sent_word_ratio\"] = text.interrogative_sent_word_ratio\n",
    "    val_df.loc[idx, \"word_in_sym_average_len\"] = text.word_in_sym_average_len\n",
    "    val_df.loc[idx, \"sent_sym_average_len\"] = text.sent_sym_average_len\n",
    "    val_df.loc[idx, \"sent_in_words_average_len\"] = text.sent_in_words_average_len\n",
    "    val_df.loc[idx, \"prolonged_words_count\"] = text.prolonged_words_count"
   ]
  },
  {
   "cell_type": "code",
   "execution_count": null,
   "metadata": {
    "colab": {},
    "colab_type": "code",
    "id": "bJ0_5RuPXHPQ",
    "outputId": "a06e8853-d0e4-4c1c-ecf6-03622c202d8e"
   },
   "outputs": [
    {
     "data": {
      "text/html": [
       "<div>\n",
       "<style scoped>\n",
       "    .dataframe tbody tr th:only-of-type {\n",
       "        vertical-align: middle;\n",
       "    }\n",
       "\n",
       "    .dataframe tbody tr th {\n",
       "        vertical-align: top;\n",
       "    }\n",
       "\n",
       "    .dataframe thead th {\n",
       "        text-align: right;\n",
       "    }\n",
       "</style>\n",
       "<table border=\"1\" class=\"dataframe\">\n",
       "  <thead>\n",
       "    <tr style=\"text-align: right;\">\n",
       "      <th></th>\n",
       "      <th>comment_text</th>\n",
       "      <th>lang</th>\n",
       "      <th>toxic</th>\n",
       "      <th>word_count</th>\n",
       "      <th>sent_count</th>\n",
       "      <th>sym_count</th>\n",
       "      <th>total_multiplied_interrogations</th>\n",
       "      <th>total_multiplied_exclamations</th>\n",
       "      <th>exclamative_sent_word_ratio</th>\n",
       "      <th>interrogative_sent_word_ratio</th>\n",
       "      <th>word_in_sym_average_len</th>\n",
       "      <th>sent_sym_average_len</th>\n",
       "      <th>sent_in_words_average_len</th>\n",
       "      <th>prolonged_words_count</th>\n",
       "    </tr>\n",
       "    <tr>\n",
       "      <th>id</th>\n",
       "      <th></th>\n",
       "      <th></th>\n",
       "      <th></th>\n",
       "      <th></th>\n",
       "      <th></th>\n",
       "      <th></th>\n",
       "      <th></th>\n",
       "      <th></th>\n",
       "      <th></th>\n",
       "      <th></th>\n",
       "      <th></th>\n",
       "      <th></th>\n",
       "      <th></th>\n",
       "      <th></th>\n",
       "    </tr>\n",
       "  </thead>\n",
       "  <tbody>\n",
       "    <tr>\n",
       "      <th>0</th>\n",
       "      <td>Este usuario ni siquiera llega al rango de    ...</td>\n",
       "      <td>es</td>\n",
       "      <td>0</td>\n",
       "      <td>40.0</td>\n",
       "      <td>4.0</td>\n",
       "      <td>190.0</td>\n",
       "      <td>0.0</td>\n",
       "      <td>0.0</td>\n",
       "      <td>0.000000</td>\n",
       "      <td>0.000000</td>\n",
       "      <td>4.750000</td>\n",
       "      <td>47.5</td>\n",
       "      <td>10.000000</td>\n",
       "      <td>0.0</td>\n",
       "    </tr>\n",
       "    <tr>\n",
       "      <th>1</th>\n",
       "      <td>Il testo di questa voce pare esser scopiazzato...</td>\n",
       "      <td>it</td>\n",
       "      <td>0</td>\n",
       "      <td>20.0</td>\n",
       "      <td>2.0</td>\n",
       "      <td>107.0</td>\n",
       "      <td>0.0</td>\n",
       "      <td>0.0</td>\n",
       "      <td>0.000000</td>\n",
       "      <td>0.000000</td>\n",
       "      <td>5.350000</td>\n",
       "      <td>53.5</td>\n",
       "      <td>10.000000</td>\n",
       "      <td>0.0</td>\n",
       "    </tr>\n",
       "    <tr>\n",
       "      <th>2</th>\n",
       "      <td>Vale. Sólo expongo mi pasado. Todo tiempo pasa...</td>\n",
       "      <td>es</td>\n",
       "      <td>1</td>\n",
       "      <td>27.0</td>\n",
       "      <td>4.0</td>\n",
       "      <td>134.0</td>\n",
       "      <td>0.0</td>\n",
       "      <td>0.0</td>\n",
       "      <td>0.000000</td>\n",
       "      <td>0.000000</td>\n",
       "      <td>4.962963</td>\n",
       "      <td>33.5</td>\n",
       "      <td>6.750000</td>\n",
       "      <td>0.0</td>\n",
       "    </tr>\n",
       "    <tr>\n",
       "      <th>3</th>\n",
       "      <td>Bu maddenin alt başlığı olarak  uluslararası i...</td>\n",
       "      <td>tr</td>\n",
       "      <td>0</td>\n",
       "      <td>49.0</td>\n",
       "      <td>1.0</td>\n",
       "      <td>334.0</td>\n",
       "      <td>0.0</td>\n",
       "      <td>0.0</td>\n",
       "      <td>0.000000</td>\n",
       "      <td>0.000000</td>\n",
       "      <td>6.816327</td>\n",
       "      <td>334.0</td>\n",
       "      <td>49.000000</td>\n",
       "      <td>0.0</td>\n",
       "    </tr>\n",
       "    <tr>\n",
       "      <th>4</th>\n",
       "      <td>Belçika nın şehirlerinin yanında ilçe ve belde...</td>\n",
       "      <td>tr</td>\n",
       "      <td>0</td>\n",
       "      <td>55.0</td>\n",
       "      <td>6.0</td>\n",
       "      <td>351.0</td>\n",
       "      <td>0.0</td>\n",
       "      <td>0.0</td>\n",
       "      <td>0.000000</td>\n",
       "      <td>0.166667</td>\n",
       "      <td>6.381818</td>\n",
       "      <td>58.5</td>\n",
       "      <td>9.166667</td>\n",
       "      <td>0.0</td>\n",
       "    </tr>\n",
       "    <tr>\n",
       "      <th>...</th>\n",
       "      <td>...</td>\n",
       "      <td>...</td>\n",
       "      <td>...</td>\n",
       "      <td>...</td>\n",
       "      <td>...</td>\n",
       "      <td>...</td>\n",
       "      <td>...</td>\n",
       "      <td>...</td>\n",
       "      <td>...</td>\n",
       "      <td>...</td>\n",
       "      <td>...</td>\n",
       "      <td>...</td>\n",
       "      <td>...</td>\n",
       "      <td>...</td>\n",
       "    </tr>\n",
       "    <tr>\n",
       "      <th>7995</th>\n",
       "      <td>Il fatto è che la pagina dei personaggi minor...</td>\n",
       "      <td>it</td>\n",
       "      <td>0</td>\n",
       "      <td>36.0</td>\n",
       "      <td>2.0</td>\n",
       "      <td>189.0</td>\n",
       "      <td>0.0</td>\n",
       "      <td>0.0</td>\n",
       "      <td>0.000000</td>\n",
       "      <td>0.000000</td>\n",
       "      <td>5.250000</td>\n",
       "      <td>94.5</td>\n",
       "      <td>18.000000</td>\n",
       "      <td>0.0</td>\n",
       "    </tr>\n",
       "    <tr>\n",
       "      <th>7996</th>\n",
       "      <td>El imbesil ete dela luna no se entera ni ostia...</td>\n",
       "      <td>es</td>\n",
       "      <td>1</td>\n",
       "      <td>31.0</td>\n",
       "      <td>3.0</td>\n",
       "      <td>144.0</td>\n",
       "      <td>0.0</td>\n",
       "      <td>1.0</td>\n",
       "      <td>0.666667</td>\n",
       "      <td>0.000000</td>\n",
       "      <td>4.645161</td>\n",
       "      <td>48.0</td>\n",
       "      <td>10.333333</td>\n",
       "      <td>0.0</td>\n",
       "    </tr>\n",
       "    <tr>\n",
       "      <th>7997</th>\n",
       "      <td>olum sız manyakmısınz siz adam sıze sanal yıld...</td>\n",
       "      <td>tr</td>\n",
       "      <td>1</td>\n",
       "      <td>33.0</td>\n",
       "      <td>1.0</td>\n",
       "      <td>185.0</td>\n",
       "      <td>0.0</td>\n",
       "      <td>0.0</td>\n",
       "      <td>0.000000</td>\n",
       "      <td>0.000000</td>\n",
       "      <td>5.606061</td>\n",
       "      <td>185.0</td>\n",
       "      <td>33.000000</td>\n",
       "      <td>0.0</td>\n",
       "    </tr>\n",
       "    <tr>\n",
       "      <th>7998</th>\n",
       "      <td>El mapa del reinado de Alhaken esta ligerament...</td>\n",
       "      <td>es</td>\n",
       "      <td>0</td>\n",
       "      <td>41.0</td>\n",
       "      <td>2.0</td>\n",
       "      <td>184.0</td>\n",
       "      <td>0.0</td>\n",
       "      <td>0.0</td>\n",
       "      <td>0.500000</td>\n",
       "      <td>0.000000</td>\n",
       "      <td>4.487805</td>\n",
       "      <td>92.0</td>\n",
       "      <td>20.500000</td>\n",
       "      <td>0.0</td>\n",
       "    </tr>\n",
       "    <tr>\n",
       "      <th>7999</th>\n",
       "      <td>lasciami la tua email per favore. ad ogni modo...</td>\n",
       "      <td>it</td>\n",
       "      <td>0</td>\n",
       "      <td>32.0</td>\n",
       "      <td>3.0</td>\n",
       "      <td>159.0</td>\n",
       "      <td>0.0</td>\n",
       "      <td>0.0</td>\n",
       "      <td>0.000000</td>\n",
       "      <td>0.000000</td>\n",
       "      <td>4.968750</td>\n",
       "      <td>53.0</td>\n",
       "      <td>10.666667</td>\n",
       "      <td>0.0</td>\n",
       "    </tr>\n",
       "  </tbody>\n",
       "</table>\n",
       "<p>8000 rows × 14 columns</p>\n",
       "</div>"
      ],
      "text/plain": [
       "                                           comment_text lang  toxic  \\\n",
       "id                                                                    \n",
       "0     Este usuario ni siquiera llega al rango de    ...   es      0   \n",
       "1     Il testo di questa voce pare esser scopiazzato...   it      0   \n",
       "2     Vale. Sólo expongo mi pasado. Todo tiempo pasa...   es      1   \n",
       "3     Bu maddenin alt başlığı olarak  uluslararası i...   tr      0   \n",
       "4     Belçika nın şehirlerinin yanında ilçe ve belde...   tr      0   \n",
       "...                                                 ...  ...    ...   \n",
       "7995   Il fatto è che la pagina dei personaggi minor...   it      0   \n",
       "7996  El imbesil ete dela luna no se entera ni ostia...   es      1   \n",
       "7997  olum sız manyakmısınz siz adam sıze sanal yıld...   tr      1   \n",
       "7998  El mapa del reinado de Alhaken esta ligerament...   es      0   \n",
       "7999  lasciami la tua email per favore. ad ogni modo...   it      0   \n",
       "\n",
       "      word_count  sent_count  sym_count  total_multiplied_interrogations  \\\n",
       "id                                                                         \n",
       "0           40.0         4.0      190.0                              0.0   \n",
       "1           20.0         2.0      107.0                              0.0   \n",
       "2           27.0         4.0      134.0                              0.0   \n",
       "3           49.0         1.0      334.0                              0.0   \n",
       "4           55.0         6.0      351.0                              0.0   \n",
       "...          ...         ...        ...                              ...   \n",
       "7995        36.0         2.0      189.0                              0.0   \n",
       "7996        31.0         3.0      144.0                              0.0   \n",
       "7997        33.0         1.0      185.0                              0.0   \n",
       "7998        41.0         2.0      184.0                              0.0   \n",
       "7999        32.0         3.0      159.0                              0.0   \n",
       "\n",
       "      total_multiplied_exclamations  exclamative_sent_word_ratio  \\\n",
       "id                                                                 \n",
       "0                               0.0                     0.000000   \n",
       "1                               0.0                     0.000000   \n",
       "2                               0.0                     0.000000   \n",
       "3                               0.0                     0.000000   \n",
       "4                               0.0                     0.000000   \n",
       "...                             ...                          ...   \n",
       "7995                            0.0                     0.000000   \n",
       "7996                            1.0                     0.666667   \n",
       "7997                            0.0                     0.000000   \n",
       "7998                            0.0                     0.500000   \n",
       "7999                            0.0                     0.000000   \n",
       "\n",
       "      interrogative_sent_word_ratio  word_in_sym_average_len  \\\n",
       "id                                                             \n",
       "0                          0.000000                 4.750000   \n",
       "1                          0.000000                 5.350000   \n",
       "2                          0.000000                 4.962963   \n",
       "3                          0.000000                 6.816327   \n",
       "4                          0.166667                 6.381818   \n",
       "...                             ...                      ...   \n",
       "7995                       0.000000                 5.250000   \n",
       "7996                       0.000000                 4.645161   \n",
       "7997                       0.000000                 5.606061   \n",
       "7998                       0.000000                 4.487805   \n",
       "7999                       0.000000                 4.968750   \n",
       "\n",
       "      sent_sym_average_len  sent_in_words_average_len  prolonged_words_count  \n",
       "id                                                                            \n",
       "0                     47.5                  10.000000                    0.0  \n",
       "1                     53.5                  10.000000                    0.0  \n",
       "2                     33.5                   6.750000                    0.0  \n",
       "3                    334.0                  49.000000                    0.0  \n",
       "4                     58.5                   9.166667                    0.0  \n",
       "...                    ...                        ...                    ...  \n",
       "7995                  94.5                  18.000000                    0.0  \n",
       "7996                  48.0                  10.333333                    0.0  \n",
       "7997                 185.0                  33.000000                    0.0  \n",
       "7998                  92.0                  20.500000                    0.0  \n",
       "7999                  53.0                  10.666667                    0.0  \n",
       "\n",
       "[8000 rows x 14 columns]"
      ]
     },
     "execution_count": 164,
     "metadata": {
      "tags": []
     },
     "output_type": "execute_result"
    }
   ],
   "source": [
    "val_df"
   ]
  },
  {
   "cell_type": "code",
   "execution_count": null,
   "metadata": {
    "colab": {},
    "colab_type": "code",
    "id": "oaEzo1qJXHPS"
   },
   "outputs": [],
   "source": [
    "train_df.to_csv(DATA_HOME.joinpath(\"train_with_metrics.csv\"))"
   ]
  },
  {
   "cell_type": "code",
   "execution_count": null,
   "metadata": {
    "colab": {},
    "colab_type": "code",
    "id": "8PLWxuykXHPU",
    "outputId": "38620a43-6322-4589-ffe7-29e2d6f6b2bd"
   },
   "outputs": [
    {
     "data": {
      "text/plain": [
       "0    202165\n",
       "1     21384\n",
       "Name: toxic, dtype: int64"
      ]
     },
     "execution_count": 137,
     "metadata": {
      "tags": []
     },
     "output_type": "execute_result"
    }
   ],
   "source": [
    "train_df.toxic.value_counts()"
   ]
  },
  {
   "cell_type": "code",
   "execution_count": null,
   "metadata": {
    "colab": {},
    "colab_type": "code",
    "id": "J1tDWjG2XHPW",
    "outputId": "a6d76e8b-583e-4cb6-97b6-caddf239d852"
   },
   "outputs": [
    {
     "data": {
      "text/plain": [
       "<matplotlib.axes._subplots.AxesSubplot at 0x7f2ec7950b00>"
      ]
     },
     "execution_count": 138,
     "metadata": {
      "tags": []
     },
     "output_type": "execute_result"
    },
    {
     "data": {
      "image/png": "[encoded data removed]",
      "text/plain": [
       "<Figure size 432x288 with 1 Axes>"
      ]
     },
     "metadata": {
      "tags": []
     },
     "output_type": "display_data"
    }
   ],
   "source": [
    "train_df.toxic.value_counts().plot(kind='pie')"
   ]
  },
  {
   "cell_type": "markdown",
   "metadata": {
    "colab_type": "text",
    "id": "lM-bntPUXHPX"
   },
   "source": [
    "Судя по распределению классов, датасет не сбалансирован, будем использовать кроссвалидацию со стратификацией"
   ]
  },
  {
   "cell_type": "code",
   "execution_count": null,
   "metadata": {
    "colab": {},
    "colab_type": "code",
    "id": "wT-vYcw2XHPY",
    "outputId": "ead24fa6-437e-4949-e767-61a9c6c4bf3c",
    "scrolled": true
   },
   "outputs": [
    {
     "data": {
      "text/html": [
       "<div>\n",
       "<style scoped>\n",
       "    .dataframe tbody tr th:only-of-type {\n",
       "        vertical-align: middle;\n",
       "    }\n",
       "\n",
       "    .dataframe tbody tr th {\n",
       "        vertical-align: top;\n",
       "    }\n",
       "\n",
       "    .dataframe thead th {\n",
       "        text-align: right;\n",
       "    }\n",
       "</style>\n",
       "<table border=\"1\" class=\"dataframe\">\n",
       "  <thead>\n",
       "    <tr style=\"text-align: right;\">\n",
       "      <th></th>\n",
       "      <th>toxic</th>\n",
       "      <th>severe_toxic</th>\n",
       "      <th>obscene</th>\n",
       "      <th>threat</th>\n",
       "      <th>insult</th>\n",
       "      <th>identity_hate</th>\n",
       "      <th>total_multiplied_exclamations</th>\n",
       "      <th>word_count</th>\n",
       "      <th>sent_count</th>\n",
       "      <th>total_multiplied_interrogations</th>\n",
       "      <th>exclamative_sent_word_ratio</th>\n",
       "      <th>interrogative_sent_word_ratio</th>\n",
       "      <th>word_in_sym_average_len</th>\n",
       "      <th>sent_sym_average_len</th>\n",
       "      <th>sent_in_words_average_len</th>\n",
       "      <th>prolonged_words_count</th>\n",
       "      <th>sym_count</th>\n",
       "    </tr>\n",
       "  </thead>\n",
       "  <tbody>\n",
       "    <tr>\n",
       "      <th>count</th>\n",
       "      <td>223549.000000</td>\n",
       "      <td>223549.000000</td>\n",
       "      <td>223549.000000</td>\n",
       "      <td>223549.000000</td>\n",
       "      <td>223549.000000</td>\n",
       "      <td>223549.000000</td>\n",
       "      <td>223549.000000</td>\n",
       "      <td>223549.000000</td>\n",
       "      <td>223549.000000</td>\n",
       "      <td>223549.000000</td>\n",
       "      <td>223549.000000</td>\n",
       "      <td>223549.000000</td>\n",
       "      <td>223539.000000</td>\n",
       "      <td>223549.000000</td>\n",
       "      <td>223549.000000</td>\n",
       "      <td>223549.000000</td>\n",
       "      <td>223549.000000</td>\n",
       "    </tr>\n",
       "    <tr>\n",
       "      <th>mean</th>\n",
       "      <td>0.095657</td>\n",
       "      <td>0.008777</td>\n",
       "      <td>0.054306</td>\n",
       "      <td>0.003082</td>\n",
       "      <td>0.050566</td>\n",
       "      <td>0.009470</td>\n",
       "      <td>0.038139</td>\n",
       "      <td>69.924218</td>\n",
       "      <td>4.320485</td>\n",
       "      <td>0.008361</td>\n",
       "      <td>0.069219</td>\n",
       "      <td>0.102096</td>\n",
       "      <td>4.570586</td>\n",
       "      <td>73.113745</td>\n",
       "      <td>16.175805</td>\n",
       "      <td>0.022228</td>\n",
       "      <td>313.816179</td>\n",
       "    </tr>\n",
       "    <tr>\n",
       "      <th>std</th>\n",
       "      <td>0.294121</td>\n",
       "      <td>0.093272</td>\n",
       "      <td>0.226621</td>\n",
       "      <td>0.055431</td>\n",
       "      <td>0.219110</td>\n",
       "      <td>0.096852</td>\n",
       "      <td>1.465871</td>\n",
       "      <td>104.554245</td>\n",
       "      <td>6.937251</td>\n",
       "      <td>0.154576</td>\n",
       "      <td>1.431872</td>\n",
       "      <td>0.286538</td>\n",
       "      <td>5.724356</td>\n",
       "      <td>137.485942</td>\n",
       "      <td>29.087106</td>\n",
       "      <td>0.970425</td>\n",
       "      <td>477.655166</td>\n",
       "    </tr>\n",
       "    <tr>\n",
       "      <th>min</th>\n",
       "      <td>0.000000</td>\n",
       "      <td>0.000000</td>\n",
       "      <td>0.000000</td>\n",
       "      <td>0.000000</td>\n",
       "      <td>0.000000</td>\n",
       "      <td>0.000000</td>\n",
       "      <td>0.000000</td>\n",
       "      <td>0.000000</td>\n",
       "      <td>1.000000</td>\n",
       "      <td>0.000000</td>\n",
       "      <td>0.000000</td>\n",
       "      <td>0.000000</td>\n",
       "      <td>1.000000</td>\n",
       "      <td>0.000000</td>\n",
       "      <td>0.000000</td>\n",
       "      <td>0.000000</td>\n",
       "      <td>0.000000</td>\n",
       "    </tr>\n",
       "    <tr>\n",
       "      <th>25%</th>\n",
       "      <td>0.000000</td>\n",
       "      <td>0.000000</td>\n",
       "      <td>0.000000</td>\n",
       "      <td>0.000000</td>\n",
       "      <td>0.000000</td>\n",
       "      <td>0.000000</td>\n",
       "      <td>0.000000</td>\n",
       "      <td>17.000000</td>\n",
       "      <td>2.000000</td>\n",
       "      <td>0.000000</td>\n",
       "      <td>0.000000</td>\n",
       "      <td>0.000000</td>\n",
       "      <td>4.000000</td>\n",
       "      <td>37.166667</td>\n",
       "      <td>8.500000</td>\n",
       "      <td>0.000000</td>\n",
       "      <td>74.000000</td>\n",
       "    </tr>\n",
       "    <tr>\n",
       "      <th>50%</th>\n",
       "      <td>0.000000</td>\n",
       "      <td>0.000000</td>\n",
       "      <td>0.000000</td>\n",
       "      <td>0.000000</td>\n",
       "      <td>0.000000</td>\n",
       "      <td>0.000000</td>\n",
       "      <td>0.000000</td>\n",
       "      <td>37.000000</td>\n",
       "      <td>3.000000</td>\n",
       "      <td>0.000000</td>\n",
       "      <td>0.000000</td>\n",
       "      <td>0.000000</td>\n",
       "      <td>4.383333</td>\n",
       "      <td>58.500000</td>\n",
       "      <td>13.333333</td>\n",
       "      <td>0.000000</td>\n",
       "      <td>162.000000</td>\n",
       "    </tr>\n",
       "    <tr>\n",
       "      <th>75%</th>\n",
       "      <td>0.000000</td>\n",
       "      <td>0.000000</td>\n",
       "      <td>0.000000</td>\n",
       "      <td>0.000000</td>\n",
       "      <td>0.000000</td>\n",
       "      <td>0.000000</td>\n",
       "      <td>0.000000</td>\n",
       "      <td>78.000000</td>\n",
       "      <td>5.000000</td>\n",
       "      <td>0.000000</td>\n",
       "      <td>0.000000</td>\n",
       "      <td>0.000000</td>\n",
       "      <td>4.774194</td>\n",
       "      <td>86.000000</td>\n",
       "      <td>19.125000</td>\n",
       "      <td>0.000000</td>\n",
       "      <td>346.000000</td>\n",
       "    </tr>\n",
       "    <tr>\n",
       "      <th>max</th>\n",
       "      <td>1.000000</td>\n",
       "      <td>1.000000</td>\n",
       "      <td>1.000000</td>\n",
       "      <td>1.000000</td>\n",
       "      <td>1.000000</td>\n",
       "      <td>1.000000</td>\n",
       "      <td>357.000000</td>\n",
       "      <td>2142.000000</td>\n",
       "      <td>683.000000</td>\n",
       "      <td>46.000000</td>\n",
       "      <td>383.000000</td>\n",
       "      <td>77.000000</td>\n",
       "      <td>1241.000000</td>\n",
       "      <td>4992.000000</td>\n",
       "      <td>2142.000000</td>\n",
       "      <td>385.000000</td>\n",
       "      <td>4992.000000</td>\n",
       "    </tr>\n",
       "  </tbody>\n",
       "</table>\n",
       "</div>"
      ],
      "text/plain": [
       "               toxic   severe_toxic        obscene         threat  \\\n",
       "count  223549.000000  223549.000000  223549.000000  223549.000000   \n",
       "mean        0.095657       0.008777       0.054306       0.003082   \n",
       "std         0.294121       0.093272       0.226621       0.055431   \n",
       "min         0.000000       0.000000       0.000000       0.000000   \n",
       "25%         0.000000       0.000000       0.000000       0.000000   \n",
       "50%         0.000000       0.000000       0.000000       0.000000   \n",
       "75%         0.000000       0.000000       0.000000       0.000000   \n",
       "max         1.000000       1.000000       1.000000       1.000000   \n",
       "\n",
       "              insult  identity_hate  total_multiplied_exclamations  \\\n",
       "count  223549.000000  223549.000000                  223549.000000   \n",
       "mean        0.050566       0.009470                       0.038139   \n",
       "std         0.219110       0.096852                       1.465871   \n",
       "min         0.000000       0.000000                       0.000000   \n",
       "25%         0.000000       0.000000                       0.000000   \n",
       "50%         0.000000       0.000000                       0.000000   \n",
       "75%         0.000000       0.000000                       0.000000   \n",
       "max         1.000000       1.000000                     357.000000   \n",
       "\n",
       "          word_count     sent_count  total_multiplied_interrogations  \\\n",
       "count  223549.000000  223549.000000                    223549.000000   \n",
       "mean       69.924218       4.320485                         0.008361   \n",
       "std       104.554245       6.937251                         0.154576   \n",
       "min         0.000000       1.000000                         0.000000   \n",
       "25%        17.000000       2.000000                         0.000000   \n",
       "50%        37.000000       3.000000                         0.000000   \n",
       "75%        78.000000       5.000000                         0.000000   \n",
       "max      2142.000000     683.000000                        46.000000   \n",
       "\n",
       "       exclamative_sent_word_ratio  interrogative_sent_word_ratio  \\\n",
       "count                223549.000000                  223549.000000   \n",
       "mean                      0.069219                       0.102096   \n",
       "std                       1.431872                       0.286538   \n",
       "min                       0.000000                       0.000000   \n",
       "25%                       0.000000                       0.000000   \n",
       "50%                       0.000000                       0.000000   \n",
       "75%                       0.000000                       0.000000   \n",
       "max                     383.000000                      77.000000   \n",
       "\n",
       "       word_in_sym_average_len  sent_sym_average_len  \\\n",
       "count            223539.000000         223549.000000   \n",
       "mean                  4.570586             73.113745   \n",
       "std                   5.724356            137.485942   \n",
       "min                   1.000000              0.000000   \n",
       "25%                   4.000000             37.166667   \n",
       "50%                   4.383333             58.500000   \n",
       "75%                   4.774194             86.000000   \n",
       "max                1241.000000           4992.000000   \n",
       "\n",
       "       sent_in_words_average_len  prolonged_words_count      sym_count  \n",
       "count              223549.000000          223549.000000  223549.000000  \n",
       "mean                   16.175805               0.022228     313.816179  \n",
       "std                    29.087106               0.970425     477.655166  \n",
       "min                     0.000000               0.000000       0.000000  \n",
       "25%                     8.500000               0.000000      74.000000  \n",
       "50%                    13.333333               0.000000     162.000000  \n",
       "75%                    19.125000               0.000000     346.000000  \n",
       "max                  2142.000000             385.000000    4992.000000  "
      ]
     },
     "execution_count": 135,
     "metadata": {
      "tags": []
     },
     "output_type": "execute_result"
    }
   ],
   "source": [
    "train_df.describe()"
   ]
  },
  {
   "cell_type": "code",
   "execution_count": null,
   "metadata": {
    "colab": {},
    "colab_type": "code",
    "id": "5uyznlG6XHPZ"
   },
   "outputs": [],
   "source": [
    "test_df = pd.read_csv(DATA_HOME.joinpath('test.csv'), index_col=0)\n",
    "val_df = pd.read_csv(DATA_HOME.joinpath('validation.csv'), index_col=0)"
   ]
  },
  {
   "cell_type": "code",
   "execution_count": null,
   "metadata": {
    "colab": {},
    "colab_type": "code",
    "id": "KMsTkXrwXHPb",
    "outputId": "6672997f-8420-4f52-9cef-b99daa0010b3",
    "scrolled": true
   },
   "outputs": [
    {
     "data": {
      "text/html": [
       "<div>\n",
       "<style scoped>\n",
       "    .dataframe tbody tr th:only-of-type {\n",
       "        vertical-align: middle;\n",
       "    }\n",
       "\n",
       "    .dataframe tbody tr th {\n",
       "        vertical-align: top;\n",
       "    }\n",
       "\n",
       "    .dataframe thead tr th {\n",
       "        text-align: left;\n",
       "    }\n",
       "\n",
       "    .dataframe thead tr:last-of-type th {\n",
       "        text-align: right;\n",
       "    }\n",
       "</style>\n",
       "<table border=\"1\" class=\"dataframe\">\n",
       "  <thead>\n",
       "    <tr>\n",
       "      <th></th>\n",
       "      <th colspan=\"2\" halign=\"left\">toxic</th>\n",
       "    </tr>\n",
       "    <tr>\n",
       "      <th></th>\n",
       "      <th>sum</th>\n",
       "      <th>count</th>\n",
       "    </tr>\n",
       "    <tr>\n",
       "      <th>lang</th>\n",
       "      <th></th>\n",
       "      <th></th>\n",
       "    </tr>\n",
       "  </thead>\n",
       "  <tbody>\n",
       "    <tr>\n",
       "      <th>es</th>\n",
       "      <td>422</td>\n",
       "      <td>2500</td>\n",
       "    </tr>\n",
       "    <tr>\n",
       "      <th>it</th>\n",
       "      <td>488</td>\n",
       "      <td>2500</td>\n",
       "    </tr>\n",
       "    <tr>\n",
       "      <th>tr</th>\n",
       "      <td>320</td>\n",
       "      <td>3000</td>\n",
       "    </tr>\n",
       "  </tbody>\n",
       "</table>\n",
       "</div>"
      ],
      "text/plain": [
       "     toxic      \n",
       "       sum count\n",
       "lang            \n",
       "es     422  2500\n",
       "it     488  2500\n",
       "tr     320  3000"
      ]
     },
     "execution_count": 47,
     "metadata": {
      "tags": []
     },
     "output_type": "execute_result"
    }
   ],
   "source": [
    "val_df.groupby('lang').agg({'toxic' : ['sum', 'count']})"
   ]
  },
  {
   "cell_type": "markdown",
   "metadata": {
    "colab_type": "text",
    "id": "xomwzymCXHPc"
   },
   "source": [
    "То же самое можно сказать и про валидационную выборку, однако заметно, что по языкам соотношение таксичных и нетоксичных коментариев прибизительно одинаково, что есть хорошо, так как корреляция языка и токсичности комментариев должна быть сведена к минимуму."
   ]
  },
  {
   "cell_type": "code",
   "execution_count": null,
   "metadata": {
    "colab": {},
    "colab_type": "code",
    "id": "Hnqpl70DXHPd",
    "outputId": "8dfb743f-9d71-46b4-addd-2a5f010871b9"
   },
   "outputs": [
    {
     "data": {
      "text/plain": [
       "array([<matplotlib.axes._subplots.AxesSubplot object at 0x7f2ed2c3bb38>,\n",
       "       <matplotlib.axes._subplots.AxesSubplot object at 0x7f2ed2548dd8>],\n",
       "      dtype=object)"
      ]
     },
     "execution_count": 46,
     "metadata": {
      "tags": []
     },
     "output_type": "execute_result"
    },
    {
     "data": {
      "image/png": "[encoded data removed]",
      "text/plain": [
       "<Figure size 432x288 with 2 Axes>"
      ]
     },
     "metadata": {
      "tags": []
     },
     "output_type": "display_data"
    }
   ],
   "source": [
    "val_df.groupby('lang').agg({'toxic' : ['sum', 'count']}).plot(kind='pie', subplots=True)"
   ]
  },
  {
   "cell_type": "markdown",
   "metadata": {
    "colab_type": "text",
    "id": "zEsCbtrfXHPe"
   },
   "source": [
    "## Бейзлайн модель, которая работает на отложенной выборке (train_test_split) и validation.csv (различие в точности может быть большим, но главное попробовать любыми способами его уменьшить и зафиксировать эксперименты) - 3 балла"
   ]
  },
  {
   "cell_type": "code",
   "execution_count": 4,
   "metadata": {
    "colab": {},
    "colab_type": "code",
    "id": "kJs38UczXHPe"
   },
   "outputs": [],
   "source": [
    "from sklearn.model_selection import train_test_split\n",
    "from sklearn.feature_extraction.text import TfidfVectorizer\n",
    "from sklearn.tree import DecisionTreeClassifier\n",
    "from sklearn.model_selection import StratifiedKFold\n",
    "from sklearn.metrics import classification_report, roc_auc_score\n",
    "from sklearn.preprocessing import MinMaxScaler"
   ]
  },
  {
   "cell_type": "code",
   "execution_count": 5,
   "metadata": {
    "colab": {},
    "colab_type": "code",
    "id": "Y19GxyHGXHPg"
   },
   "outputs": [],
   "source": [
    "selected_df = train_df[(~train_df.word_count.isna()) & (train_df.word_count > 0)]"
   ]
  },
  {
   "cell_type": "code",
   "execution_count": 6,
   "metadata": {
    "colab": {
     "base_uri": "https://localhost:8080/",
     "height": 68
    },
    "colab_type": "code",
    "id": "3jibjCw0XHPh",
    "outputId": "1783de9b-20af-4315-9c1b-b20e0716c005"
   },
   "outputs": [
    {
     "data": {
      "text/plain": [
       "0    202155\n",
       "1     21384\n",
       "Name: toxic, dtype: int64"
      ]
     },
     "execution_count": 6,
     "metadata": {},
     "output_type": "execute_result"
    }
   ],
   "source": [
    "selected_df.toxic.value_counts()"
   ]
  },
  {
   "cell_type": "code",
   "execution_count": 7,
   "metadata": {
    "colab": {},
    "colab_type": "code",
    "id": "ExcpzwBrXHPi"
   },
   "outputs": [],
   "source": [
    "fields = ['total_multiplied_exclamations',\n",
    "     'word_count',\n",
    "     'sent_count',\n",
    "     'total_multiplied_interrogations',\n",
    "     'exclamative_sent_word_ratio',\n",
    "     'interrogative_sent_word_ratio',\n",
    "     'word_in_sym_average_len',\n",
    "     'sent_sym_average_len',\n",
    "     'sent_in_words_average_len',\n",
    "     'prolonged_words_count',\n",
    "     'sym_count']"
   ]
  },
  {
   "cell_type": "code",
   "execution_count": 7,
   "metadata": {
    "colab": {},
    "colab_type": "code",
    "id": "vqFVXXLiXHPj"
   },
   "outputs": [],
   "source": [
    "y = selected_df.toxic"
   ]
  },
  {
   "cell_type": "code",
   "execution_count": 8,
   "metadata": {
    "colab": {},
    "colab_type": "code",
    "id": "Um5Z1YzMXHPk"
   },
   "outputs": [],
   "source": [
    "vectorizer = TfidfVectorizer(lowercase=False, analyzer='char')"
   ]
  },
  {
   "cell_type": "code",
   "execution_count": 9,
   "metadata": {
    "colab": {},
    "colab_type": "code",
    "id": "qOUFiFYbXHPm"
   },
   "outputs": [],
   "source": [
    "X = vectorizer.fit_transform(selected_df.comment_text)"
   ]
  },
  {
   "cell_type": "code",
   "execution_count": 14,
   "metadata": {
    "colab": {
     "base_uri": "https://localhost:8080/",
     "height": 88
    },
    "colab_type": "code",
    "id": "8hjFW-3aXHPn",
    "outputId": "cd3fdbac-1d68-4d49-83d7-b4623881dba6"
   },
   "outputs": [
    {
     "name": "stderr",
     "output_type": "stream",
     "text": [
      "/Users/grigoriyarshinov/anaconda3/envs/lab_8/lib/python3.6/site-packages/sklearn/model_selection/_split.py:296: FutureWarning: Setting a random_state has no effect since shuffle is False. This will raise an error in 0.24. You should leave random_state to its default (None), or set shuffle=True.\n",
      "  FutureWarning\n"
     ]
    },
    {
     "name": "stdout",
     "output_type": "stream",
     "text": [
      "FOLD 0\n",
      "              precision    recall  f1-score   support\n",
      "\n",
      "           0       0.93      0.92      0.92     40431\n",
      "           1       0.31      0.36      0.33      4277\n",
      "\n",
      "    accuracy                           0.86     44708\n",
      "   macro avg       0.62      0.64      0.63     44708\n",
      "weighted avg       0.87      0.86      0.87     44708\n",
      "\n",
      "0.6368211894901179\n",
      "FOLD 1\n",
      "              precision    recall  f1-score   support\n",
      "\n",
      "           0       0.93      0.92      0.92     40431\n",
      "           1       0.31      0.35      0.33      4277\n",
      "\n",
      "    accuracy                           0.86     44708\n",
      "   macro avg       0.62      0.64      0.63     44708\n",
      "weighted avg       0.87      0.86      0.87     44708\n",
      "\n",
      "0.6356703098812192\n",
      "FOLD 2\n",
      "              precision    recall  f1-score   support\n",
      "\n",
      "           0       0.93      0.92      0.92     40431\n",
      "           1       0.31      0.36      0.33      4277\n",
      "\n",
      "    accuracy                           0.86     44708\n",
      "   macro avg       0.62      0.64      0.63     44708\n",
      "weighted avg       0.87      0.86      0.87     44708\n",
      "\n",
      "0.6371011805360949\n",
      "FOLD 3\n",
      "              precision    recall  f1-score   support\n",
      "\n",
      "           0       0.93      0.92      0.92     40431\n",
      "           1       0.29      0.32      0.31      4277\n",
      "\n",
      "    accuracy                           0.86     44708\n",
      "   macro avg       0.61      0.62      0.61     44708\n",
      "weighted avg       0.87      0.86      0.86     44708\n",
      "\n",
      "0.6204468485225773\n",
      "FOLD 4\n",
      "              precision    recall  f1-score   support\n",
      "\n",
      "           0       0.93      0.91      0.92     40431\n",
      "           1       0.29      0.34      0.31      4276\n",
      "\n",
      "    accuracy                           0.86     44707\n",
      "   macro avg       0.61      0.63      0.62     44707\n",
      "weighted avg       0.87      0.86      0.86     44707\n",
      "\n",
      "0.6254567888115009\n"
     ]
    }
   ],
   "source": [
    "skf = StratifiedKFold(n_splits=5, random_state=42)\n",
    "\n",
    "for idx, (train_index, test_index) in enumerate(skf.split(X, y)):\n",
    "    print(f\"FOLD {idx}\")\n",
    "    X_train, X_test = X[train_index], X[test_index]\n",
    "    y_train, y_test = y.iloc[train_index], y.iloc[test_index]\n",
    "    model = DecisionTreeClassifier(class_weight={0: 0.8, 1: 0.2})\n",
    "    model.fit(X_train, y_train)\n",
    "    predicted = model.predict(X_test)\n",
    "    print(classification_report(y_test, predicted))\n",
    "    print(roc_auc_score(y_test, predicted))"
   ]
  },
  {
   "cell_type": "markdown",
   "metadata": {},
   "source": [
    "## Тест на валидационных данных"
   ]
  },
  {
   "cell_type": "code",
   "execution_count": 11,
   "metadata": {
    "scrolled": true
   },
   "outputs": [
    {
     "name": "stdout",
     "output_type": "stream",
     "text": [
      "              precision    recall  f1-score   support\n",
      "\n",
      "           0       0.85      0.87      0.86      6770\n",
      "           1       0.18      0.16      0.17      1230\n",
      "\n",
      "    accuracy                           0.76      8000\n",
      "   macro avg       0.51      0.51      0.51      8000\n",
      "weighted avg       0.75      0.76      0.75      8000\n",
      "\n"
     ]
    }
   ],
   "source": [
    "predicted = model.predict(vectorizer.transform(val_df.comment_text))\n",
    "print(classification_report(val_df.toxic, predicted))"
   ]
  },
  {
   "cell_type": "code",
   "execution_count": 13,
   "metadata": {},
   "outputs": [
    {
     "data": {
      "text/plain": [
       "0.51231821402409"
      ]
     },
     "execution_count": 13,
     "metadata": {},
     "output_type": "execute_result"
    }
   ],
   "source": [
    "roc_auc_score(val_df.toxic, predicted)"
   ]
  },
  {
   "cell_type": "markdown",
   "metadata": {
    "colab_type": "text",
    "id": "dcMQRAxUXHPp"
   },
   "source": [
    "## Использование предобучнной модели из huggingface для обучения классификатора с оценкой на validation.csv - 3 балла"
   ]
  },
  {
   "cell_type": "code",
   "execution_count": 4,
   "metadata": {
    "colab": {},
    "colab_type": "code",
    "id": "p1FBsZLSH51M"
   },
   "outputs": [],
   "source": [
    "import pandas as pd"
   ]
  },
  {
   "cell_type": "code",
   "execution_count": 3,
   "metadata": {
    "colab": {},
    "colab_type": "code",
    "id": "ModUordgXcKl"
   },
   "outputs": [],
   "source": [
    "train_df = pd.read_csv(DATA_HOME.joinpath('train_with_metrics.csv'), index_col=0)\n",
    "val_df = pd.read_csv(DATA_HOME.joinpath('val_with_metrics.csv'), index_col=0)"
   ]
  },
  {
   "cell_type": "code",
   "execution_count": 11,
   "metadata": {
    "colab": {},
    "colab_type": "code",
    "id": "muSSrcZDIXGa"
   },
   "outputs": [],
   "source": [
    "PRE_TRAINED_MODEL_NAME = 'bert-base-multilingual-cased'"
   ]
  },
  {
   "cell_type": "code",
   "execution_count": 12,
   "metadata": {
    "colab": {},
    "colab_type": "code",
    "id": "LxToSv9yIYtO"
   },
   "outputs": [],
   "source": [
    "from transformers import BertTokenizer\n",
    "import torch"
   ]
  },
  {
   "cell_type": "code",
   "execution_count": 13,
   "metadata": {
    "colab": {
     "base_uri": "https://localhost:8080/",
     "height": 66,
     "referenced_widgets": [
      "7f8a4b3dde6c4532895118a97cf91d4d",
      "616dd85554454a50a4226ea1f4f13232",
      "f463956a3bf34162ae573c50c91adb2c",
      "79c463b1f7c9470585098e8090b4bdcd",
      "282caa1bf55449458f2da1fadd96ce3b",
      "717aa7f236ff4096a8058fb08447ea10",
      "87a2690e9dbf4372aca9e69dd17a81e3",
      "d24f8a6b2dd74acea5f8104ef9701928"
     ]
    },
    "colab_type": "code",
    "id": "jxLSmInoIbUm",
    "outputId": "b20b10c6-a847-41a1-b76b-77e8fda19db0"
   },
   "outputs": [
    {
     "data": {
      "application/vnd.jupyter.widget-view+json": {
       "model_id": "7f8a4b3dde6c4532895118a97cf91d4d",
       "version_major": 2,
       "version_minor": 0
      },
      "text/plain": [
       "HBox(children=(FloatProgress(value=0.0, description='Downloading', max=995526.0, style=ProgressStyle(descripti…"
      ]
     },
     "metadata": {
      "tags": []
     },
     "output_type": "display_data"
    },
    {
     "name": "stdout",
     "output_type": "stream",
     "text": [
      "\n"
     ]
    }
   ],
   "source": [
    "tokenizer = BertTokenizer.from_pretrained(PRE_TRAINED_MODEL_NAME)"
   ]
  },
  {
   "cell_type": "code",
   "execution_count": 14,
   "metadata": {
    "colab": {},
    "colab_type": "code",
    "id": "Y-mhFcd9IeA7"
   },
   "outputs": [],
   "source": [
    "from torch.utils.data import Dataset\n",
    "\n",
    "class CommentDataset(Dataset):\n",
    "\n",
    "    def __init__(self, comments, targets, tokenizer, max_len):\n",
    "        self.comments = comments\n",
    "        self.targets = targets\n",
    "        self.tokenizer = tokenizer\n",
    "        self.max_len = max_len\n",
    "  \n",
    "    def __len__(self):\n",
    "        return len(self.comments)\n",
    "  \n",
    "    def __getitem__(self, item):\n",
    "        comment = str(self.comments[item])\n",
    "        target = self.targets[item]\n",
    "\n",
    "        encoding = self.tokenizer.encode_plus(\n",
    "          comment,\n",
    "          add_special_tokens=True,\n",
    "          max_length=self.max_len,\n",
    "          return_token_type_ids=False,\n",
    "          pad_to_max_length=True,\n",
    "          return_attention_mask=True,\n",
    "          return_tensors='pt',\n",
    "        )\n",
    "\n",
    "        return {\n",
    "          'comment_text': comment,\n",
    "          'input_ids': encoding['input_ids'].flatten(),\n",
    "          'attention_mask': encoding['attention_mask'].flatten(),\n",
    "          'targets': torch.tensor(target, dtype=torch.long)\n",
    "        }"
   ]
  },
  {
   "cell_type": "code",
   "execution_count": 15,
   "metadata": {
    "colab": {},
    "colab_type": "code",
    "id": "nmStxEeHIh4V"
   },
   "outputs": [],
   "source": [
    "RANDOM_SEED = 42"
   ]
  },
  {
   "cell_type": "code",
   "execution_count": 16,
   "metadata": {
    "colab": {},
    "colab_type": "code",
    "id": "Cj7sAgBHIjrq"
   },
   "outputs": [],
   "source": [
    "from sklearn.model_selection import train_test_split"
   ]
  },
  {
   "cell_type": "code",
   "execution_count": 17,
   "metadata": {
    "colab": {
     "base_uri": "https://localhost:8080/",
     "height": 68
    },
    "colab_type": "code",
    "id": "iayPm9CvJfAA",
    "outputId": "968e7abb-57f4-4a63-86d0-772492332d27"
   },
   "outputs": [
    {
     "data": {
      "text/plain": [
       "0    202165\n",
       "1     21384\n",
       "Name: toxic, dtype: int64"
      ]
     },
     "execution_count": 17,
     "metadata": {
      "tags": []
     },
     "output_type": "execute_result"
    }
   ],
   "source": [
    "train_df.toxic.value_counts()"
   ]
  },
  {
   "cell_type": "code",
   "execution_count": 18,
   "metadata": {
    "colab": {},
    "colab_type": "code",
    "id": "iSetmPTZImp7"
   },
   "outputs": [],
   "source": [
    "df_train, df_test = train_test_split(train_df, test_size=0.1, random_state=RANDOM_SEED)\n",
    "df_val, df_test = train_test_split(val_df, test_size=0.5, random_state=RANDOM_SEED)"
   ]
  },
  {
   "cell_type": "code",
   "execution_count": 19,
   "metadata": {
    "colab": {},
    "colab_type": "code",
    "id": "IiAMMnE6LgeI"
   },
   "outputs": [],
   "source": [
    "from torch.utils.data import DataLoader\n",
    "\n",
    "def create_data_loader(df, tokenizer, max_len, batch_size):\n",
    "    ds = CommentDataset(\n",
    "        comments=df.comment_text.to_numpy(),\n",
    "        targets=df.toxic.to_numpy(),\n",
    "        tokenizer=tokenizer,\n",
    "        max_len=max_len\n",
    "    )\n",
    "\n",
    "    return DataLoader(\n",
    "        ds,\n",
    "        batch_size=batch_size,\n",
    "        num_workers=4\n",
    "    )"
   ]
  },
  {
   "cell_type": "code",
   "execution_count": 20,
   "metadata": {
    "colab": {},
    "colab_type": "code",
    "id": "KDAhjQcBLgIu"
   },
   "outputs": [],
   "source": [
    "MAX_LEN = int(train_df.word_count.quantile(0.85))"
   ]
  },
  {
   "cell_type": "code",
   "execution_count": 34,
   "metadata": {
    "colab": {},
    "colab_type": "code",
    "id": "ZlwV7QMzLpq8"
   },
   "outputs": [],
   "source": [
    "BATCH_SIZE = 32\n",
    "\n",
    "train_data_loader = create_data_loader(df_train, tokenizer, MAX_LEN, BATCH_SIZE)\n",
    "val_data_loader = create_data_loader(df_val, tokenizer, MAX_LEN, BATCH_SIZE)\n",
    "test_data_loader = create_data_loader(df_test, tokenizer, MAX_LEN, BATCH_SIZE)"
   ]
  },
  {
   "cell_type": "code",
   "execution_count": 35,
   "metadata": {
    "colab": {
     "base_uri": "https://localhost:8080/",
     "height": 34
    },
    "colab_type": "code",
    "id": "8blhoM-vLtV4",
    "outputId": "c9d8ca5f-bc27-41cd-d93a-ef38f28574c1"
   },
   "outputs": [
    {
     "data": {
      "text/plain": [
       "dict_keys(['comment_text', 'input_ids', 'attention_mask', 'targets'])"
      ]
     },
     "execution_count": 35,
     "metadata": {
      "tags": []
     },
     "output_type": "execute_result"
    }
   ],
   "source": [
    "data = next(iter(train_data_loader))\n",
    "data.keys()"
   ]
  },
  {
   "cell_type": "code",
   "execution_count": 23,
   "metadata": {
    "colab": {},
    "colab_type": "code",
    "id": "NGdXUZ6VLv6E"
   },
   "outputs": [],
   "source": [
    "from transformers import BertModel"
   ]
  },
  {
   "cell_type": "code",
   "execution_count": 36,
   "metadata": {
    "colab": {},
    "colab_type": "code",
    "id": "MAJkY6mCLyuM"
   },
   "outputs": [],
   "source": [
    "from torch import nn\n",
    "\n",
    "class ToxicityClassifier(nn.Module):\n",
    "\n",
    "    def __init__(self, n_classes):\n",
    "        super(ToxicityClassifier, self).__init__()\n",
    "        self.bert = BertModel.from_pretrained(PRE_TRAINED_MODEL_NAME)\n",
    "        self.drop = nn.Dropout(p=0.3)\n",
    "        self.out = nn.Linear(self.bert.config.hidden_size, n_classes)\n",
    "  \n",
    "    def forward(self, input_ids, attention_mask):\n",
    "        _, pooled_output = self.bert(\n",
    "          input_ids=input_ids,\n",
    "          attention_mask=attention_mask\n",
    "        )\n",
    "        output = self.drop(pooled_output)\n",
    "        return self.out(output)"
   ]
  },
  {
   "cell_type": "code",
   "execution_count": 37,
   "metadata": {
    "colab": {},
    "colab_type": "code",
    "id": "IHTPf50oL1sj"
   },
   "outputs": [],
   "source": [
    "device = torch.device(\"cuda:0\" if torch.cuda.is_available() else \"cpu\")"
   ]
  },
  {
   "cell_type": "code",
   "execution_count": 38,
   "metadata": {
    "colab": {},
    "colab_type": "code",
    "id": "kkb-DTIwL1ap"
   },
   "outputs": [],
   "source": [
    "model = ToxicityClassifier(2)\n",
    "model = model.to(device)"
   ]
  },
  {
   "cell_type": "code",
   "execution_count": 27,
   "metadata": {
    "colab": {},
    "colab_type": "code",
    "id": "-Aulq4fDL7jC"
   },
   "outputs": [],
   "source": [
    "from transformers import AdamW, get_linear_schedule_with_warmup"
   ]
  },
  {
   "cell_type": "code",
   "execution_count": 39,
   "metadata": {
    "colab": {},
    "colab_type": "code",
    "id": "kf9OJ1pHL7BO"
   },
   "outputs": [],
   "source": [
    "EPOCHS = 10\n",
    "\n",
    "optimizer = AdamW(model.parameters(), lr=2e-5, correct_bias=False)\n",
    "total_steps = len(train_data_loader) * EPOCHS\n",
    "\n",
    "scheduler = get_linear_schedule_with_warmup(\n",
    "  optimizer,\n",
    "  num_warmup_steps=0,\n",
    "  num_training_steps=total_steps\n",
    ")\n",
    "\n",
    "loss_fn = nn.CrossEntropyLoss().to(device)"
   ]
  },
  {
   "cell_type": "code",
   "execution_count": 29,
   "metadata": {
    "colab": {},
    "colab_type": "code",
    "id": "Fdwo0yw8MErV"
   },
   "outputs": [],
   "source": [
    "from tqdm.notebook import tqdm"
   ]
  },
  {
   "cell_type": "code",
   "execution_count": 40,
   "metadata": {
    "colab": {},
    "colab_type": "code",
    "id": "1Fy-_4rcMEci"
   },
   "outputs": [],
   "source": [
    "def train_epoch(\n",
    "  model, \n",
    "  data_loader, \n",
    "  loss_fn, \n",
    "  optimizer, \n",
    "  device, \n",
    "  scheduler, \n",
    "  n_examples\n",
    "):\n",
    "    model = model.train()\n",
    "\n",
    "    losses = []\n",
    "    correct_predictions = 0\n",
    "\n",
    "    for d in tqdm(data_loader):\n",
    "        input_ids = d[\"input_ids\"].to(device)\n",
    "        attention_mask = d[\"attention_mask\"].to(device)\n",
    "        targets = d[\"targets\"].to(device)\n",
    "\n",
    "        outputs = model(\n",
    "          input_ids=input_ids,\n",
    "          attention_mask=attention_mask\n",
    "        )\n",
    "\n",
    "        _, preds = torch.max(outputs, dim=1)\n",
    "        loss = loss_fn(outputs, targets)\n",
    "\n",
    "        correct_predictions += torch.sum(preds == targets)\n",
    "        losses.append(loss.item())\n",
    "\n",
    "        loss.backward()\n",
    "        nn.utils.clip_grad_norm_(model.parameters(), max_norm=1.0)\n",
    "        optimizer.step()\n",
    "        scheduler.step()\n",
    "        optimizer.zero_grad()\n",
    "\n",
    "    return correct_predictions.double() / n_examples, np.mean(losses)"
   ]
  },
  {
   "cell_type": "code",
   "execution_count": 47,
   "metadata": {
    "colab": {},
    "colab_type": "code",
    "id": "WDUSOxVcMELo"
   },
   "outputs": [],
   "source": [
    "import numpy as np\n",
    "\n",
    "def eval_model(model, data_loader, loss_fn=None, device=None, n_examples=None):\n",
    "    model = model.eval()\n",
    "\n",
    "    losses = []\n",
    "    correct_predictions = 0\n",
    "\n",
    "    with torch.no_grad():\n",
    "        for d in data_loader:\n",
    "            input_ids = d[\"input_ids\"].to(device)\n",
    "            attention_mask = d[\"attention_mask\"].to(device)\n",
    "            targets = d[\"targets\"].to(device)\n",
    "\n",
    "            outputs = model(\n",
    "            input_ids=input_ids,\n",
    "            attention_mask=attention_mask\n",
    "            )\n",
    "            _, preds = torch.max(outputs, dim=1)\n",
    "\n",
    "            if loss_fn:\n",
    "                loss = loss_fn(outputs, targets)\n",
    "                losses.append(loss.item())\n",
    "            else:\n",
    "                losses = [0]\n",
    "\n",
    "            correct_predictions += torch.sum(preds == targets)\n",
    "\n",
    "    return correct_predictions.double() / n_examples, np.mean(losses)"
   ]
  },
  {
   "cell_type": "code",
   "execution_count": 42,
   "metadata": {
    "colab": {},
    "colab_type": "code",
    "id": "-Cpil76KMMgu"
   },
   "outputs": [],
   "source": [
    "from collections import defaultdict"
   ]
  },
  {
   "cell_type": "code",
   "execution_count": null,
   "metadata": {
    "colab": {
     "base_uri": "https://localhost:8080/",
     "height": 400,
     "referenced_widgets": [
      "323968dafd6a41beac560afbb138b450",
      "821896f73d2943a2b7cff589bfdc1fa7",
      "5bb306b4e2234bc699c3ab4ff30977da",
      "f451ea0651be411a820d608be9f81e3b",
      "f898678c92e742558b36eaa892a7c981",
      "edbb950ac2d04294a6f1f3280e7268c5",
      "69dbd7951ffa4aff9fcbd4073a826563",
      "e5f8849c8b9b4de196f5368fe81ecdcc"
     ]
    },
    "colab_type": "code",
    "id": "foYHNIK_MO7f",
    "outputId": "8f2f054e-bbf8-4c47-b22b-1ad2580fe666"
   },
   "outputs": [],
   "source": [
    "history = defaultdict(list)\n",
    "best_accuracy = 0\n",
    "\n",
    "for epoch in range(EPOCHS):\n",
    "\n",
    "    print(f'Epoch {epoch + 1}/{EPOCHS}')\n",
    "    print('-' * 10)\n",
    "\n",
    "    train_acc, train_loss = train_epoch(\n",
    "        model,\n",
    "        train_data_loader,    \n",
    "        loss_fn, \n",
    "        optimizer, \n",
    "        device, \n",
    "        scheduler, \n",
    "        len(df_train)\n",
    "    )\n",
    "\n",
    "    print(f'Train loss {train_loss} accuracy {train_acc}')\n",
    "\n",
    "    val_acc, val_loss = eval_model(\n",
    "        model,\n",
    "        val_data_loader,\n",
    "        loss_fn, \n",
    "        device, \n",
    "        len(df_val)\n",
    "    )\n",
    "\n",
    "    print(f'Val   loss {val_loss} accuracy {val_acc}')\n",
    "    print()\n",
    "\n",
    "    history['train_acc'].append(train_acc)\n",
    "    history['train_loss'].append(train_loss)\n",
    "    history['val_acc'].append(val_acc)\n",
    "    history['val_loss'].append(val_loss)\n",
    "\n",
    "    if val_acc > best_accuracy:\n",
    "        torch.save(model.state_dict(), 'best_model_state.bin')\n",
    "        best_accuracy = val_acc"
   ]
  },
  {
   "cell_type": "markdown",
   "metadata": {},
   "source": [
    "### Модель обучалась в течение одной эпохи"
   ]
  },
  {
   "cell_type": "code",
   "execution_count": 48,
   "metadata": {
    "colab": {},
    "colab_type": "code",
    "id": "tJsRGfzPbybO"
   },
   "outputs": [],
   "source": [
    "val_acc, val_loss = eval_model(\n",
    "    model,\n",
    "    val_data_loader,\n",
    "    device=device, \n",
    "    n_examples=len(df_val)\n",
    ")"
   ]
  },
  {
   "cell_type": "markdown",
   "metadata": {},
   "source": [
    "### Качество "
   ]
  },
  {
   "cell_type": "code",
   "execution_count": 49,
   "metadata": {
    "colab": {
     "base_uri": "https://localhost:8080/",
     "height": 34
    },
    "colab_type": "code",
    "id": "65RcASdIdFcI",
    "outputId": "265d773d-9655-4242-b109-c5db34b9990f"
   },
   "outputs": [
    {
     "data": {
      "text/plain": [
       "tensor(0.8605, device='cuda:0', dtype=torch.float64)"
      ]
     },
     "execution_count": 49,
     "metadata": {
      "tags": []
     },
     "output_type": "execute_result"
    }
   ],
   "source": [
    "val_acc"
   ]
  },
  {
   "cell_type": "code",
   "execution_count": null,
   "metadata": {
    "colab": {},
    "colab_type": "code",
    "id": "Gg4aYqKIE0CP"
   },
   "outputs": [],
   "source": []
  },
  {
   "cell_type": "markdown",
   "metadata": {
    "colab_type": "text",
    "id": "3igSIjkHXHPs"
   },
   "source": [
    "## Поиск признаков, которые могут обобщаться на многоязычные данные (минимум 10 признаков рассмотрено,, обучать можно любую модель, оценивать нужно на validation.csv)  - 3 балла"
   ]
  },
  {
   "cell_type": "code",
   "execution_count": 15,
   "metadata": {
    "colab": {},
    "colab_type": "code",
    "id": "ExcpzwBrXHPi"
   },
   "outputs": [],
   "source": [
    "fields = ['total_multiplied_exclamations',\n",
    "     'word_count',\n",
    "     'sent_count',\n",
    "     'total_multiplied_interrogations',\n",
    "     'exclamative_sent_word_ratio',\n",
    "     'interrogative_sent_word_ratio',\n",
    "     'word_in_sym_average_len',\n",
    "     'sent_sym_average_len',\n",
    "     'sent_in_words_average_len',\n",
    "     'prolonged_words_count',\n",
    "     'sym_count']"
   ]
  },
  {
   "cell_type": "code",
   "execution_count": 16,
   "metadata": {
    "colab": {},
    "colab_type": "code",
    "id": "vqFVXXLiXHPj"
   },
   "outputs": [],
   "source": [
    "y = selected_df.toxic\n",
    "X = selected_df[fields]"
   ]
  },
  {
   "cell_type": "code",
   "execution_count": 19,
   "metadata": {
    "colab": {
     "base_uri": "https://localhost:8080/",
     "height": 88
    },
    "colab_type": "code",
    "id": "8hjFW-3aXHPn",
    "outputId": "cd3fdbac-1d68-4d49-83d7-b4623881dba6"
   },
   "outputs": [
    {
     "name": "stderr",
     "output_type": "stream",
     "text": [
      "/Users/grigoriyarshinov/anaconda3/envs/lab_8/lib/python3.6/site-packages/sklearn/model_selection/_split.py:296: FutureWarning: Setting a random_state has no effect since shuffle is False. This will raise an error in 0.24. You should leave random_state to its default (None), or set shuffle=True.\n",
      "  FutureWarning\n"
     ]
    },
    {
     "name": "stdout",
     "output_type": "stream",
     "text": [
      "FOLD 0\n",
      "              precision    recall  f1-score   support\n",
      "\n",
      "           0       0.91      0.96      0.94     40431\n",
      "           1       0.23      0.11      0.15      4277\n",
      "\n",
      "    accuracy                           0.88     44708\n",
      "   macro avg       0.57      0.53      0.54     44708\n",
      "weighted avg       0.85      0.88      0.86     44708\n",
      "\n",
      "0.5348425195951083\n",
      "FOLD 1\n",
      "              precision    recall  f1-score   support\n",
      "\n",
      "           0       0.91      0.96      0.94     40431\n",
      "           1       0.23      0.10      0.14      4277\n",
      "\n",
      "    accuracy                           0.88     44708\n",
      "   macro avg       0.57      0.53      0.54     44708\n",
      "weighted avg       0.84      0.88      0.86     44708\n",
      "\n",
      "0.5319537258427629\n",
      "FOLD 2\n",
      "              precision    recall  f1-score   support\n",
      "\n",
      "           0       0.91      0.96      0.94     40431\n",
      "           1       0.22      0.11      0.14      4277\n",
      "\n",
      "    accuracy                           0.88     44708\n",
      "   macro avg       0.57      0.53      0.54     44708\n",
      "weighted avg       0.84      0.88      0.86     44708\n",
      "\n",
      "0.5337262275576409\n",
      "FOLD 3\n",
      "              precision    recall  f1-score   support\n",
      "\n",
      "           0       0.91      0.96      0.93     40431\n",
      "           1       0.19      0.10      0.13      4277\n",
      "\n",
      "    accuracy                           0.88     44708\n",
      "   macro avg       0.55      0.53      0.53     44708\n",
      "weighted avg       0.84      0.88      0.86     44708\n",
      "\n",
      "0.5272321406704807\n",
      "FOLD 4\n",
      "              precision    recall  f1-score   support\n",
      "\n",
      "           0       0.91      0.95      0.93     40431\n",
      "           1       0.18      0.10      0.13      4276\n",
      "\n",
      "    accuracy                           0.87     44707\n",
      "   macro avg       0.55      0.53      0.53     44707\n",
      "weighted avg       0.84      0.87      0.85     44707\n",
      "\n",
      "0.5255930781285345\n"
     ]
    }
   ],
   "source": [
    "skf = StratifiedKFold(n_splits=5, random_state=42)\n",
    "\n",
    "for idx, (train_index, test_index) in enumerate(skf.split(X, y)):\n",
    "    print(f\"FOLD {idx}\")\n",
    "    X_train, X_test = X.iloc[train_index], X.iloc[test_index]\n",
    "    y_train, y_test = y.iloc[train_index], y.iloc[test_index]\n",
    "    model = DecisionTreeClassifier(class_weight={0: 0.8, 1: 0.2})\n",
    "    model.fit(X_train, y_train)\n",
    "    predicted = model.predict(X_test)\n",
    "    print(classification_report(y_test, predicted))\n",
    "    print(roc_auc_score(y_test, predicted))"
   ]
  },
  {
   "cell_type": "markdown",
   "metadata": {},
   "source": [
    "## Тест на валидационных данных"
   ]
  },
  {
   "cell_type": "code",
   "execution_count": 20,
   "metadata": {
    "scrolled": true
   },
   "outputs": [
    {
     "name": "stdout",
     "output_type": "stream",
     "text": [
      "              precision    recall  f1-score   support\n",
      "\n",
      "           0       0.85      0.93      0.89      6770\n",
      "           1       0.23      0.10      0.14      1230\n",
      "\n",
      "    accuracy                           0.81      8000\n",
      "   macro avg       0.54      0.52      0.52      8000\n",
      "weighted avg       0.76      0.81      0.78      8000\n",
      "\n"
     ]
    }
   ],
   "source": [
    "predicted = model.predict(val_df[fields])\n",
    "print(classification_report(val_df.toxic, predicted))"
   ]
  },
  {
   "cell_type": "code",
   "execution_count": 27,
   "metadata": {},
   "outputs": [
    {
     "data": {
      "text/plain": [
       "['word_in_sym_average_len',\n",
       " 'sent_sym_average_len',\n",
       " 'sym_count',\n",
       " 'sent_in_words_average_len',\n",
       " 'word_count',\n",
       " 'interrogative_sent_word_ratio',\n",
       " 'exclamative_sent_word_ratio',\n",
       " 'sent_count',\n",
       " 'total_multiplied_exclamations',\n",
       " 'prolonged_words_count',\n",
       " 'total_multiplied_interrogations']"
      ]
     },
     "execution_count": 27,
     "metadata": {},
     "output_type": "execute_result"
    }
   ],
   "source": [
    "sorted(fields, key=lambda x: model.feature_importances_[fields.index(x)], reverse=True)"
   ]
  },
  {
   "cell_type": "markdown",
   "metadata": {},
   "source": [
    "Можно заметить, что средняя длина слова в символах по тексту значительно влияет на качество классификации по токсичности. Следом идет средняя длина предложения в символах и количество символов. Такие метрики как количество повторенных знаков припенания типа !!!! или ???? мало влияют на токсичность, вместе с повторением букв в словах и количеством вопросительных предложений."
   ]
  },
  {
   "cell_type": "code",
   "execution_count": null,
   "metadata": {},
   "outputs": [],
   "source": []
  }
 ],
 "metadata": {
  "accelerator": "GPU",
  "colab": {
   "name": "Exam.ipynb",
   "provenance": []
  },
  "kernelspec": {
   "display_name": "Python 3",
   "language": "python",
   "name": "python3"
  },
  "language_info": {
   "codemirror_mode": {
    "name": "ipython",
    "version": 3
   },
   "file_extension": ".py",
   "mimetype": "text/x-python",
   "name": "python",
   "nbconvert_exporter": "python",
   "pygments_lexer": "ipython3",
   "version": "3.6.10"
  },
  "widgets": {
   "application/vnd.jupyter.widget-state+json": {
    "282caa1bf55449458f2da1fadd96ce3b": {
     "model_module": "@jupyter-widgets/controls",
     "model_name": "ProgressStyleModel",
     "state": {
      "_model_module": "@jupyter-widgets/controls",
      "_model_module_version": "1.5.0",
      "_model_name": "ProgressStyleModel",
      "_view_count": null,
      "_view_module": "@jupyter-widgets/base",
      "_view_module_version": "1.2.0",
      "_view_name": "StyleView",
      "bar_color": null,
      "description_width": "initial"
     }
    },
    "323968dafd6a41beac560afbb138b450": {
     "model_module": "@jupyter-widgets/controls",
     "model_name": "HBoxModel",
     "state": {
      "_dom_classes": [],
      "_model_module": "@jupyter-widgets/controls",
      "_model_module_version": "1.5.0",
      "_model_name": "HBoxModel",
      "_view_count": null,
      "_view_module": "@jupyter-widgets/controls",
      "_view_module_version": "1.5.0",
      "_view_name": "HBoxView",
      "box_style": "",
      "children": [
       "IPY_MODEL_5bb306b4e2234bc699c3ab4ff30977da",
       "IPY_MODEL_f451ea0651be411a820d608be9f81e3b"
      ],
      "layout": "IPY_MODEL_821896f73d2943a2b7cff589bfdc1fa7"
     }
    },
    "5bb306b4e2234bc699c3ab4ff30977da": {
     "model_module": "@jupyter-widgets/controls",
     "model_name": "FloatProgressModel",
     "state": {
      "_dom_classes": [],
      "_model_module": "@jupyter-widgets/controls",
      "_model_module_version": "1.5.0",
      "_model_name": "FloatProgressModel",
      "_view_count": null,
      "_view_module": "@jupyter-widgets/controls",
      "_view_module_version": "1.5.0",
      "_view_name": "ProgressView",
      "bar_style": "success",
      "description": "100%",
      "description_tooltip": null,
      "layout": "IPY_MODEL_edbb950ac2d04294a6f1f3280e7268c5",
      "max": 6288,
      "min": 0,
      "orientation": "horizontal",
      "style": "IPY_MODEL_f898678c92e742558b36eaa892a7c981",
      "value": 6288
     }
    },
    "616dd85554454a50a4226ea1f4f13232": {
     "model_module": "@jupyter-widgets/base",
     "model_name": "LayoutModel",
     "state": {
      "_model_module": "@jupyter-widgets/base",
      "_model_module_version": "1.2.0",
      "_model_name": "LayoutModel",
      "_view_count": null,
      "_view_module": "@jupyter-widgets/base",
      "_view_module_version": "1.2.0",
      "_view_name": "LayoutView",
      "align_content": null,
      "align_items": null,
      "align_self": null,
      "border": null,
      "bottom": null,
      "display": null,
      "flex": null,
      "flex_flow": null,
      "grid_area": null,
      "grid_auto_columns": null,
      "grid_auto_flow": null,
      "grid_auto_rows": null,
      "grid_column": null,
      "grid_gap": null,
      "grid_row": null,
      "grid_template_areas": null,
      "grid_template_columns": null,
      "grid_template_rows": null,
      "height": null,
      "justify_content": null,
      "justify_items": null,
      "left": null,
      "margin": null,
      "max_height": null,
      "max_width": null,
      "min_height": null,
      "min_width": null,
      "object_fit": null,
      "object_position": null,
      "order": null,
      "overflow": null,
      "overflow_x": null,
      "overflow_y": null,
      "padding": null,
      "right": null,
      "top": null,
      "visibility": null,
      "width": null
     }
    },
    "69dbd7951ffa4aff9fcbd4073a826563": {
     "model_module": "@jupyter-widgets/controls",
     "model_name": "DescriptionStyleModel",
     "state": {
      "_model_module": "@jupyter-widgets/controls",
      "_model_module_version": "1.5.0",
      "_model_name": "DescriptionStyleModel",
      "_view_count": null,
      "_view_module": "@jupyter-widgets/base",
      "_view_module_version": "1.2.0",
      "_view_name": "StyleView",
      "description_width": ""
     }
    },
    "717aa7f236ff4096a8058fb08447ea10": {
     "model_module": "@jupyter-widgets/base",
     "model_name": "LayoutModel",
     "state": {
      "_model_module": "@jupyter-widgets/base",
      "_model_module_version": "1.2.0",
      "_model_name": "LayoutModel",
      "_view_count": null,
      "_view_module": "@jupyter-widgets/base",
      "_view_module_version": "1.2.0",
      "_view_name": "LayoutView",
      "align_content": null,
      "align_items": null,
      "align_self": null,
      "border": null,
      "bottom": null,
      "display": null,
      "flex": null,
      "flex_flow": null,
      "grid_area": null,
      "grid_auto_columns": null,
      "grid_auto_flow": null,
      "grid_auto_rows": null,
      "grid_column": null,
      "grid_gap": null,
      "grid_row": null,
      "grid_template_areas": null,
      "grid_template_columns": null,
      "grid_template_rows": null,
      "height": null,
      "justify_content": null,
      "justify_items": null,
      "left": null,
      "margin": null,
      "max_height": null,
      "max_width": null,
      "min_height": null,
      "min_width": null,
      "object_fit": null,
      "object_position": null,
      "order": null,
      "overflow": null,
      "overflow_x": null,
      "overflow_y": null,
      "padding": null,
      "right": null,
      "top": null,
      "visibility": null,
      "width": null
     }
    },
    "79c463b1f7c9470585098e8090b4bdcd": {
     "model_module": "@jupyter-widgets/controls",
     "model_name": "HTMLModel",
     "state": {
      "_dom_classes": [],
      "_model_module": "@jupyter-widgets/controls",
      "_model_module_version": "1.5.0",
      "_model_name": "HTMLModel",
      "_view_count": null,
      "_view_module": "@jupyter-widgets/controls",
      "_view_module_version": "1.5.0",
      "_view_name": "HTMLView",
      "description": "",
      "description_tooltip": null,
      "layout": "IPY_MODEL_d24f8a6b2dd74acea5f8104ef9701928",
      "placeholder": "​",
      "style": "IPY_MODEL_87a2690e9dbf4372aca9e69dd17a81e3",
      "value": " 996k/996k [00:01&lt;00:00, 826kB/s]"
     }
    },
    "7f8a4b3dde6c4532895118a97cf91d4d": {
     "model_module": "@jupyter-widgets/controls",
     "model_name": "HBoxModel",
     "state": {
      "_dom_classes": [],
      "_model_module": "@jupyter-widgets/controls",
      "_model_module_version": "1.5.0",
      "_model_name": "HBoxModel",
      "_view_count": null,
      "_view_module": "@jupyter-widgets/controls",
      "_view_module_version": "1.5.0",
      "_view_name": "HBoxView",
      "box_style": "",
      "children": [
       "IPY_MODEL_f463956a3bf34162ae573c50c91adb2c",
       "IPY_MODEL_79c463b1f7c9470585098e8090b4bdcd"
      ],
      "layout": "IPY_MODEL_616dd85554454a50a4226ea1f4f13232"
     }
    },
    "821896f73d2943a2b7cff589bfdc1fa7": {
     "model_module": "@jupyter-widgets/base",
     "model_name": "LayoutModel",
     "state": {
      "_model_module": "@jupyter-widgets/base",
      "_model_module_version": "1.2.0",
      "_model_name": "LayoutModel",
      "_view_count": null,
      "_view_module": "@jupyter-widgets/base",
      "_view_module_version": "1.2.0",
      "_view_name": "LayoutView",
      "align_content": null,
      "align_items": null,
      "align_self": null,
      "border": null,
      "bottom": null,
      "display": null,
      "flex": null,
      "flex_flow": null,
      "grid_area": null,
      "grid_auto_columns": null,
      "grid_auto_flow": null,
      "grid_auto_rows": null,
      "grid_column": null,
      "grid_gap": null,
      "grid_row": null,
      "grid_template_areas": null,
      "grid_template_columns": null,
      "grid_template_rows": null,
      "height": null,
      "justify_content": null,
      "justify_items": null,
      "left": null,
      "margin": null,
      "max_height": null,
      "max_width": null,
      "min_height": null,
      "min_width": null,
      "object_fit": null,
      "object_position": null,
      "order": null,
      "overflow": null,
      "overflow_x": null,
      "overflow_y": null,
      "padding": null,
      "right": null,
      "top": null,
      "visibility": null,
      "width": null
     }
    },
    "87a2690e9dbf4372aca9e69dd17a81e3": {
     "model_module": "@jupyter-widgets/controls",
     "model_name": "DescriptionStyleModel",
     "state": {
      "_model_module": "@jupyter-widgets/controls",
      "_model_module_version": "1.5.0",
      "_model_name": "DescriptionStyleModel",
      "_view_count": null,
      "_view_module": "@jupyter-widgets/base",
      "_view_module_version": "1.2.0",
      "_view_name": "StyleView",
      "description_width": ""
     }
    },
    "d24f8a6b2dd74acea5f8104ef9701928": {
     "model_module": "@jupyter-widgets/base",
     "model_name": "LayoutModel",
     "state": {
      "_model_module": "@jupyter-widgets/base",
      "_model_module_version": "1.2.0",
      "_model_name": "LayoutModel",
      "_view_count": null,
      "_view_module": "@jupyter-widgets/base",
      "_view_module_version": "1.2.0",
      "_view_name": "LayoutView",
      "align_content": null,
      "align_items": null,
      "align_self": null,
      "border": null,
      "bottom": null,
      "display": null,
      "flex": null,
      "flex_flow": null,
      "grid_area": null,
      "grid_auto_columns": null,
      "grid_auto_flow": null,
      "grid_auto_rows": null,
      "grid_column": null,
      "grid_gap": null,
      "grid_row": null,
      "grid_template_areas": null,
      "grid_template_columns": null,
      "grid_template_rows": null,
      "height": null,
      "justify_content": null,
      "justify_items": null,
      "left": null,
      "margin": null,
      "max_height": null,
      "max_width": null,
      "min_height": null,
      "min_width": null,
      "object_fit": null,
      "object_position": null,
      "order": null,
      "overflow": null,
      "overflow_x": null,
      "overflow_y": null,
      "padding": null,
      "right": null,
      "top": null,
      "visibility": null,
      "width": null
     }
    },
    "e5f8849c8b9b4de196f5368fe81ecdcc": {
     "model_module": "@jupyter-widgets/base",
     "model_name": "LayoutModel",
     "state": {
      "_model_module": "@jupyter-widgets/base",
      "_model_module_version": "1.2.0",
      "_model_name": "LayoutModel",
      "_view_count": null,
      "_view_module": "@jupyter-widgets/base",
      "_view_module_version": "1.2.0",
      "_view_name": "LayoutView",
      "align_content": null,
      "align_items": null,
      "align_self": null,
      "border": null,
      "bottom": null,
      "display": null,
      "flex": null,
      "flex_flow": null,
      "grid_area": null,
      "grid_auto_columns": null,
      "grid_auto_flow": null,
      "grid_auto_rows": null,
      "grid_column": null,
      "grid_gap": null,
      "grid_row": null,
      "grid_template_areas": null,
      "grid_template_columns": null,
      "grid_template_rows": null,
      "height": null,
      "justify_content": null,
      "justify_items": null,
      "left": null,
      "margin": null,
      "max_height": null,
      "max_width": null,
      "min_height": null,
      "min_width": null,
      "object_fit": null,
      "object_position": null,
      "order": null,
      "overflow": null,
      "overflow_x": null,
      "overflow_y": null,
      "padding": null,
      "right": null,
      "top": null,
      "visibility": null,
      "width": null
     }
    },
    "edbb950ac2d04294a6f1f3280e7268c5": {
     "model_module": "@jupyter-widgets/base",
     "model_name": "LayoutModel",
     "state": {
      "_model_module": "@jupyter-widgets/base",
      "_model_module_version": "1.2.0",
      "_model_name": "LayoutModel",
      "_view_count": null,
      "_view_module": "@jupyter-widgets/base",
      "_view_module_version": "1.2.0",
      "_view_name": "LayoutView",
      "align_content": null,
      "align_items": null,
      "align_self": null,
      "border": null,
      "bottom": null,
      "display": null,
      "flex": null,
      "flex_flow": null,
      "grid_area": null,
      "grid_auto_columns": null,
      "grid_auto_flow": null,
      "grid_auto_rows": null,
      "grid_column": null,
      "grid_gap": null,
      "grid_row": null,
      "grid_template_areas": null,
      "grid_template_columns": null,
      "grid_template_rows": null,
      "height": null,
      "justify_content": null,
      "justify_items": null,
      "left": null,
      "margin": null,
      "max_height": null,
      "max_width": null,
      "min_height": null,
      "min_width": null,
      "object_fit": null,
      "object_position": null,
      "order": null,
      "overflow": null,
      "overflow_x": null,
      "overflow_y": null,
      "padding": null,
      "right": null,
      "top": null,
      "visibility": null,
      "width": null
     }
    },
    "f451ea0651be411a820d608be9f81e3b": {
     "model_module": "@jupyter-widgets/controls",
     "model_name": "HTMLModel",
     "state": {
      "_dom_classes": [],
      "_model_module": "@jupyter-widgets/controls",
      "_model_module_version": "1.5.0",
      "_model_name": "HTMLModel",
      "_view_count": null,
      "_view_module": "@jupyter-widgets/controls",
      "_view_module_version": "1.5.0",
      "_view_name": "HTMLView",
      "description": "",
      "description_tooltip": null,
      "layout": "IPY_MODEL_e5f8849c8b9b4de196f5368fe81ecdcc",
      "placeholder": "​",
      "style": "IPY_MODEL_69dbd7951ffa4aff9fcbd4073a826563",
      "value": " 6288/6288 [38:52&lt;00:00,  2.70it/s]"
     }
    },
    "f463956a3bf34162ae573c50c91adb2c": {
     "model_module": "@jupyter-widgets/controls",
     "model_name": "FloatProgressModel",
     "state": {
      "_dom_classes": [],
      "_model_module": "@jupyter-widgets/controls",
      "_model_module_version": "1.5.0",
      "_model_name": "FloatProgressModel",
      "_view_count": null,
      "_view_module": "@jupyter-widgets/controls",
      "_view_module_version": "1.5.0",
      "_view_name": "ProgressView",
      "bar_style": "success",
      "description": "Downloading: 100%",
      "description_tooltip": null,
      "layout": "IPY_MODEL_717aa7f236ff4096a8058fb08447ea10",
      "max": 995526,
      "min": 0,
      "orientation": "horizontal",
      "style": "IPY_MODEL_282caa1bf55449458f2da1fadd96ce3b",
      "value": 995526
     }
    },
    "f898678c92e742558b36eaa892a7c981": {
     "model_module": "@jupyter-widgets/controls",
     "model_name": "ProgressStyleModel",
     "state": {
      "_model_module": "@jupyter-widgets/controls",
      "_model_module_version": "1.5.0",
      "_model_name": "ProgressStyleModel",
      "_view_count": null,
      "_view_module": "@jupyter-widgets/base",
      "_view_module_version": "1.2.0",
      "_view_name": "StyleView",
      "bar_color": null,
      "description_width": "initial"
     }
    }
   }
  }
 },
 "nbformat": 4,
 "nbformat_minor": 1
}
